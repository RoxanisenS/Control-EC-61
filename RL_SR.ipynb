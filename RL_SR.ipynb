{
 "cells": [
  {
   "cell_type": "markdown",
   "metadata": {},
   "source": [
    "## Data Preprocessing"
   ]
  },
  {
   "cell_type": "code",
   "execution_count": 200,
   "metadata": {},
   "outputs": [],
   "source": [
    "# Importing the libraries\n",
    "import numpy as np\n",
    "import matplotlib.pyplot as plt\n",
    "import pandas as pd"
   ]
  },
  {
   "cell_type": "code",
   "execution_count": 201,
   "metadata": {},
   "outputs": [],
   "source": [
    "# Importing the dataset\n",
    "df = pd.read_csv('RL_SR.csv', sep=';')"
   ]
  },
  {
   "cell_type": "code",
   "execution_count": 202,
   "metadata": {},
   "outputs": [
    {
     "data": {
      "text/html": [
       "<div>\n",
       "<style scoped>\n",
       "    .dataframe tbody tr th:only-of-type {\n",
       "        vertical-align: middle;\n",
       "    }\n",
       "\n",
       "    .dataframe tbody tr th {\n",
       "        vertical-align: top;\n",
       "    }\n",
       "\n",
       "    .dataframe thead th {\n",
       "        text-align: right;\n",
       "    }\n",
       "</style>\n",
       "<table border=\"1\" class=\"dataframe\">\n",
       "  <thead>\n",
       "    <tr style=\"text-align: right;\">\n",
       "      <th></th>\n",
       "      <th>ActualPower</th>\n",
       "      <th>Max Capacity</th>\n",
       "      <th>Location 1</th>\n",
       "      <th>Location 2</th>\n",
       "      <th>Location 3</th>\n",
       "      <th>Location 4</th>\n",
       "    </tr>\n",
       "  </thead>\n",
       "  <tbody>\n",
       "    <tr>\n",
       "      <th>0</th>\n",
       "      <td>0.004</td>\n",
       "      <td>45.00</td>\n",
       "      <td>3.9</td>\n",
       "      <td>2.907</td>\n",
       "      <td>0.237</td>\n",
       "      <td>2.281</td>\n",
       "    </tr>\n",
       "    <tr>\n",
       "      <th>1</th>\n",
       "      <td>0.423</td>\n",
       "      <td>45.00</td>\n",
       "      <td>4.2</td>\n",
       "      <td>3.069</td>\n",
       "      <td>0.254</td>\n",
       "      <td>2.477</td>\n",
       "    </tr>\n",
       "    <tr>\n",
       "      <th>2</th>\n",
       "      <td>0.805</td>\n",
       "      <td>45.00</td>\n",
       "      <td>4.0</td>\n",
       "      <td>4.226</td>\n",
       "      <td>0.249</td>\n",
       "      <td>3.577</td>\n",
       "    </tr>\n",
       "    <tr>\n",
       "      <th>3</th>\n",
       "      <td>1.985</td>\n",
       "      <td>45.00</td>\n",
       "      <td>4.0</td>\n",
       "      <td>4.223</td>\n",
       "      <td>0.317</td>\n",
       "      <td>3.685</td>\n",
       "    </tr>\n",
       "    <tr>\n",
       "      <th>4</th>\n",
       "      <td>4.492</td>\n",
       "      <td>45.00</td>\n",
       "      <td>3.3</td>\n",
       "      <td>4.107</td>\n",
       "      <td>0.288</td>\n",
       "      <td>3.619</td>\n",
       "    </tr>\n",
       "    <tr>\n",
       "      <th>...</th>\n",
       "      <td>...</td>\n",
       "      <td>...</td>\n",
       "      <td>...</td>\n",
       "      <td>...</td>\n",
       "      <td>...</td>\n",
       "      <td>...</td>\n",
       "    </tr>\n",
       "    <tr>\n",
       "      <th>289</th>\n",
       "      <td>1.406</td>\n",
       "      <td>43.75</td>\n",
       "      <td>4.0</td>\n",
       "      <td>5.600</td>\n",
       "      <td>5.733</td>\n",
       "      <td>6.415</td>\n",
       "    </tr>\n",
       "    <tr>\n",
       "      <th>290</th>\n",
       "      <td>1.200</td>\n",
       "      <td>43.75</td>\n",
       "      <td>3.2</td>\n",
       "      <td>1.722</td>\n",
       "      <td>2.591</td>\n",
       "      <td>1.489</td>\n",
       "    </tr>\n",
       "    <tr>\n",
       "      <th>291</th>\n",
       "      <td>2.147</td>\n",
       "      <td>43.75</td>\n",
       "      <td>3.6</td>\n",
       "      <td>1.767</td>\n",
       "      <td>2.469</td>\n",
       "      <td>1.500</td>\n",
       "    </tr>\n",
       "    <tr>\n",
       "      <th>292</th>\n",
       "      <td>1.234</td>\n",
       "      <td>43.75</td>\n",
       "      <td>3.9</td>\n",
       "      <td>1.781</td>\n",
       "      <td>2.387</td>\n",
       "      <td>1.505</td>\n",
       "    </tr>\n",
       "    <tr>\n",
       "      <th>293</th>\n",
       "      <td>3.378</td>\n",
       "      <td>43.75</td>\n",
       "      <td>4.3</td>\n",
       "      <td>1.789</td>\n",
       "      <td>2.311</td>\n",
       "      <td>1.520</td>\n",
       "    </tr>\n",
       "  </tbody>\n",
       "</table>\n",
       "<p>294 rows × 6 columns</p>\n",
       "</div>"
      ],
      "text/plain": [
       "     ActualPower  Max Capacity  Location 1  Location 2  Location 3  Location 4\n",
       "0          0.004         45.00         3.9       2.907       0.237       2.281\n",
       "1          0.423         45.00         4.2       3.069       0.254       2.477\n",
       "2          0.805         45.00         4.0       4.226       0.249       3.577\n",
       "3          1.985         45.00         4.0       4.223       0.317       3.685\n",
       "4          4.492         45.00         3.3       4.107       0.288       3.619\n",
       "..           ...           ...         ...         ...         ...         ...\n",
       "289        1.406         43.75         4.0       5.600       5.733       6.415\n",
       "290        1.200         43.75         3.2       1.722       2.591       1.489\n",
       "291        2.147         43.75         3.6       1.767       2.469       1.500\n",
       "292        1.234         43.75         3.9       1.781       2.387       1.505\n",
       "293        3.378         43.75         4.3       1.789       2.311       1.520\n",
       "\n",
       "[294 rows x 6 columns]"
      ]
     },
     "execution_count": 202,
     "metadata": {},
     "output_type": "execute_result"
    }
   ],
   "source": [
    "df"
   ]
  },
  {
   "cell_type": "code",
   "execution_count": 203,
   "metadata": {},
   "outputs": [
    {
     "data": {
      "text/html": [
       "<div>\n",
       "<style scoped>\n",
       "    .dataframe tbody tr th:only-of-type {\n",
       "        vertical-align: middle;\n",
       "    }\n",
       "\n",
       "    .dataframe tbody tr th {\n",
       "        vertical-align: top;\n",
       "    }\n",
       "\n",
       "    .dataframe thead th {\n",
       "        text-align: right;\n",
       "    }\n",
       "</style>\n",
       "<table border=\"1\" class=\"dataframe\">\n",
       "  <thead>\n",
       "    <tr style=\"text-align: right;\">\n",
       "      <th></th>\n",
       "      <th>ActualPower</th>\n",
       "      <th>Max Capacity</th>\n",
       "      <th>Location 1</th>\n",
       "      <th>Location 2</th>\n",
       "      <th>Location 3</th>\n",
       "      <th>Location 4</th>\n",
       "    </tr>\n",
       "  </thead>\n",
       "  <tbody>\n",
       "    <tr>\n",
       "      <th>count</th>\n",
       "      <td>293.000000</td>\n",
       "      <td>292.000000</td>\n",
       "      <td>294.000000</td>\n",
       "      <td>293.00000</td>\n",
       "      <td>294.000000</td>\n",
       "      <td>293.000000</td>\n",
       "    </tr>\n",
       "    <tr>\n",
       "      <th>mean</th>\n",
       "      <td>16.643478</td>\n",
       "      <td>43.904966</td>\n",
       "      <td>7.467347</td>\n",
       "      <td>8.34471</td>\n",
       "      <td>5.878480</td>\n",
       "      <td>8.623092</td>\n",
       "    </tr>\n",
       "    <tr>\n",
       "      <th>std</th>\n",
       "      <td>9.820152</td>\n",
       "      <td>1.829667</td>\n",
       "      <td>2.413660</td>\n",
       "      <td>1.73226</td>\n",
       "      <td>1.921458</td>\n",
       "      <td>1.873867</td>\n",
       "    </tr>\n",
       "    <tr>\n",
       "      <th>min</th>\n",
       "      <td>0.004000</td>\n",
       "      <td>36.000000</td>\n",
       "      <td>0.000000</td>\n",
       "      <td>1.72200</td>\n",
       "      <td>0.137000</td>\n",
       "      <td>1.489000</td>\n",
       "    </tr>\n",
       "    <tr>\n",
       "      <th>25%</th>\n",
       "      <td>9.507000</td>\n",
       "      <td>43.750000</td>\n",
       "      <td>6.100000</td>\n",
       "      <td>7.61300</td>\n",
       "      <td>5.328250</td>\n",
       "      <td>8.093000</td>\n",
       "    </tr>\n",
       "    <tr>\n",
       "      <th>50%</th>\n",
       "      <td>14.689000</td>\n",
       "      <td>43.750000</td>\n",
       "      <td>7.400000</td>\n",
       "      <td>8.48100</td>\n",
       "      <td>6.127000</td>\n",
       "      <td>8.771000</td>\n",
       "    </tr>\n",
       "    <tr>\n",
       "      <th>75%</th>\n",
       "      <td>23.340000</td>\n",
       "      <td>45.000000</td>\n",
       "      <td>8.800000</td>\n",
       "      <td>9.37300</td>\n",
       "      <td>6.953250</td>\n",
       "      <td>9.888000</td>\n",
       "    </tr>\n",
       "    <tr>\n",
       "      <th>max</th>\n",
       "      <td>37.219000</td>\n",
       "      <td>45.000000</td>\n",
       "      <td>14.400000</td>\n",
       "      <td>11.47800</td>\n",
       "      <td>9.068000</td>\n",
       "      <td>11.962000</td>\n",
       "    </tr>\n",
       "  </tbody>\n",
       "</table>\n",
       "</div>"
      ],
      "text/plain": [
       "       ActualPower  Max Capacity  Location 1  Location 2  Location 3  \\\n",
       "count   293.000000    292.000000  294.000000   293.00000  294.000000   \n",
       "mean     16.643478     43.904966    7.467347     8.34471    5.878480   \n",
       "std       9.820152      1.829667    2.413660     1.73226    1.921458   \n",
       "min       0.004000     36.000000    0.000000     1.72200    0.137000   \n",
       "25%       9.507000     43.750000    6.100000     7.61300    5.328250   \n",
       "50%      14.689000     43.750000    7.400000     8.48100    6.127000   \n",
       "75%      23.340000     45.000000    8.800000     9.37300    6.953250   \n",
       "max      37.219000     45.000000   14.400000    11.47800    9.068000   \n",
       "\n",
       "       Location 4  \n",
       "count  293.000000  \n",
       "mean     8.623092  \n",
       "std      1.873867  \n",
       "min      1.489000  \n",
       "25%      8.093000  \n",
       "50%      8.771000  \n",
       "75%      9.888000  \n",
       "max     11.962000  "
      ]
     },
     "execution_count": 203,
     "metadata": {},
     "output_type": "execute_result"
    }
   ],
   "source": [
    "df.describe()\n",
    "# Критических выбросов не наблюдается"
   ]
  },
  {
   "cell_type": "code",
   "execution_count": 204,
   "metadata": {},
   "outputs": [
    {
     "name": "stdout",
     "output_type": "stream",
     "text": [
      "{'counter_actual_power': 1, 'counter_maxcapacity': 17, 'counter_loc1': 1, 'counter_loc2': 4, 'counter_loc3': 1, 'counter_loc4': 4}\n"
     ]
    }
   ],
   "source": [
    "# mean()-3*std\n",
    "# Let's check how much the data are spread out from the mean.\n",
    "mean_ActualPower = np.mean(df['ActualPower'], axis=0)\n",
    "sd_ActualPower = np.std(df['ActualPower'], axis=0)\n",
    "\n",
    "mean_MaxCapacity = np.mean(df['Max Capacity'], axis=0)\n",
    "sd_MaxCapacity = np.std(df['Max Capacity'], axis=0)\n",
    "\n",
    "mean_Location1 = np.mean(df['Location 1'], axis=0)\n",
    "sd_Location1 = np.std(df['Location 1'], axis=0)\n",
    "\n",
    "mean_Location2 = np.mean(df['Location 2'], axis=0)\n",
    "sd_Location2 = np.std(df['Location 2'], axis=0)\n",
    "\n",
    "mean_Location3 = np.mean(df['Location 3'], axis=0)\n",
    "sd_Location3 = np.std(df['Location 3'], axis=0)\n",
    "\n",
    "mean_Location4 = np.mean(df['Location 4'], axis=0)\n",
    "sd_Location4 = np.std(df['Location 4'], axis=0)\n",
    "\n",
    "counter_actual_power = 0\n",
    "counter_maxcapacity = 0\n",
    "counter_loc1 = 0\n",
    "counter_loc2 = 0\n",
    "counter_loc3 = 0\n",
    "counter_loc4 = 0\n",
    "\n",
    "for actual_power, maxcapacity, loc1, loc2, loc3, loc4 in zip(df['ActualPower'], df['Max Capacity'], df['Location 1'], df['Location 2'], df['Location 3'], df['Location 4']):\n",
    "    if not mean_ActualPower - 3*sd_ActualPower <= actual_power <= mean_ActualPower + 3*sd_ActualPower:\n",
    "        counter_actual_power += 1\n",
    "    if not mean_MaxCapacity - 3*sd_MaxCapacity <= maxcapacity <= mean_MaxCapacity + 3*sd_MaxCapacity:\n",
    "        counter_maxcapacity += 1\n",
    "    if not mean_Location1 - 3*sd_Location1 <= counter_loc1 <= mean_Location1 + 3*sd_Location1:\n",
    "        counter_loc1 += 1\n",
    "    if not mean_Location2 - 3*sd_Location2 <= counter_loc2 <= mean_Location2 + 3*sd_Location2:\n",
    "        counter_loc2 += 1\n",
    "    if not mean_Location3 - 3*sd_Location3 <= counter_loc3 <= mean_Location3 + 3*sd_Location3:\n",
    "        counter_loc3 += 1\n",
    "    if not mean_Location4 - 3*sd_Location4 <= counter_loc4 <= mean_Location4 + 3*sd_Location4:\n",
    "        counter_loc4 += 1\n",
    "\n",
    "counter_dicts = {'counter_actual_power': counter_actual_power,\n",
    "                'counter_maxcapacity': counter_maxcapacity,\n",
    "                'counter_loc1': counter_loc1,\n",
    "                'counter_loc2': counter_loc2,\n",
    "                'counter_loc3': counter_loc3,\n",
    "                'counter_loc4': counter_loc4}\n",
    "print(counter_dicts)"
   ]
  },
  {
   "cell_type": "code",
   "execution_count": 205,
   "metadata": {},
   "outputs": [],
   "source": [
    "# Outliers\n",
    "actual_power = []\n",
    "for ap in df['ActualPower']:\n",
    "    if ap > df['ActualPower'].mean() + 3 * df['ActualPower'].std():\n",
    "        ap = df['ActualPower'].mean() + 3*df['ActualPower'].std()\n",
    "    elif ap < df['ActualPower'].mean() - 3 * df['ActualPower'].std():\n",
    "        ap = df['ActualPower'].mean() - 3*df['ActualPower'].std()\n",
    "    actual_power.append(ap)\n",
    "df['ActualPower']  = actual_power\n",
    "\n",
    "maxcapacity = []\n",
    "for m in df['Max Capacity']:\n",
    "    if m > df['Max Capacity'].mean() + 3 * df['Max Capacity'].std():\n",
    "        m = df['Max Capacity'].mean() + 3*df['Max Capacity'].std()\n",
    "    elif m < df['Max Capacity'].mean() - 3 * df['Max Capacity'].std():\n",
    "        m = df['Max Capacity'].mean() - 3*df['Max Capacity'].std()\n",
    "    maxcapacity.append(m)\n",
    "df['Max Capacity']  = maxcapacity\n",
    "\n",
    "loc1 = []\n",
    "for loc in df['Location 1']:\n",
    "    if loc > df['Location 1'].mean() + 3 * df['Location 1'].std():\n",
    "        loc = df['Location 1'].mean() + 3*df['Location 1'].std()\n",
    "    elif loc < df['Location 1'].mean() - 3 * df['Location 1'].std():\n",
    "        loc = df['Location 1'].mean() - 3*df['Location 1'].std()\n",
    "    loc1.append(loc)\n",
    "df['Location 1'] = loc1\n",
    "\n",
    "loc2 = []\n",
    "for loc in df['Location 2']:\n",
    "    if loc > df['Location 2'].mean() + 3 * df['Location 2'].std():\n",
    "        loc = df['Location 2'].mean() + 3*df['Location 2'].std()\n",
    "    elif loc < df['Location 2'].mean() - 3 * df['Location 2'].std():\n",
    "        loc = df['Location 2'].mean() - 3*df['Location 2'].std()\n",
    "    loc2.append(loc)\n",
    "df['Location 2'] = loc2\n",
    "\n",
    "loc3 = []\n",
    "for loc in df['Location 3']:\n",
    "    if loc > df['Location 3'].mean() + 3 * df['Location 3'].std():\n",
    "        loc = df['Location 3'].mean() + 3*df['Location 3'].std()\n",
    "    elif loc < df['Location 3'].mean() - 3 * df['Location 3'].std():\n",
    "        loc = df['Location 3'].mean() - 3*df['Location 3'].std()\n",
    "    loc3.append(loc)\n",
    "df['Location 3'] = loc3\n",
    "\n",
    "loc4 = []\n",
    "for loc in df['Location 4']:\n",
    "    if loc > df['Location 4'].mean() + 3 * df['Location 4'].std():\n",
    "        loc = df['Location 4'].mean() + 3*df['Location 4'].std()\n",
    "    elif loc < df['Location 4'].mean() - 3 * df['Location 4'].std():\n",
    "        loc = df['Location 4'].mean() - 3*df['Location 4'].std()\n",
    "    loc4.append(loc)\n",
    "df['Location 4'] = loc4"
   ]
  },
  {
   "cell_type": "code",
   "execution_count": 206,
   "metadata": {},
   "outputs": [
    {
     "data": {
      "text/plain": [
       "<matplotlib.axes._subplots.AxesSubplot at 0x1c4a55d4580>"
      ]
     },
     "execution_count": 206,
     "metadata": {},
     "output_type": "execute_result"
    },
    {
     "data": {
      "image/png": "[encoded data removed]",
      "text/plain": [
       "<Figure size 432x288 with 1 Axes>"
      ]
     },
     "metadata": {
      "needs_background": "light"
     },
     "output_type": "display_data"
    }
   ],
   "source": [
    "# ActualPower distribution\n",
    "df['ActualPower'].plot(kind = 'hist')"
   ]
  },
  {
   "cell_type": "code",
   "execution_count": 207,
   "metadata": {},
   "outputs": [
    {
     "data": {
      "text/plain": [
       "<matplotlib.axes._subplots.AxesSubplot at 0x1c4a55beeb0>"
      ]
     },
     "execution_count": 207,
     "metadata": {},
     "output_type": "execute_result"
    },
    {
     "data": {
      "image/png": "[encoded data removed]",
      "text/plain": [
       "<Figure size 432x288 with 1 Axes>"
      ]
     },
     "metadata": {
      "needs_background": "light"
     },
     "output_type": "display_data"
    }
   ],
   "source": [
    "# Max Capacity distribution\n",
    "distribution = df['Max Capacity'].value_counts()\n",
    "distribution.plot(kind='bar')"
   ]
  },
  {
   "cell_type": "code",
   "execution_count": 208,
   "metadata": {},
   "outputs": [
    {
     "data": {
      "text/plain": [
       "<matplotlib.axes._subplots.AxesSubplot at 0x1c4a56e5ee0>"
      ]
     },
     "execution_count": 208,
     "metadata": {},
     "output_type": "execute_result"
    },
    {
     "data": {
      "image/png": "[encoded data removed]",
      "text/plain": [
       "<Figure size 432x288 with 1 Axes>"
      ]
     },
     "metadata": {
      "needs_background": "light"
     },
     "output_type": "display_data"
    }
   ],
   "source": [
    "# Max Capacity distribution log\n",
    "distribution = np.log(df['Max Capacity'])\n",
    "distribution.plot(kind = 'hist')"
   ]
  },
  {
   "cell_type": "code",
   "execution_count": 209,
   "metadata": {},
   "outputs": [
    {
     "data": {
      "text/plain": [
       "<matplotlib.axes._subplots.AxesSubplot at 0x1c4a55479a0>"
      ]
     },
     "execution_count": 209,
     "metadata": {},
     "output_type": "execute_result"
    },
    {
     "data": {
      "image/png": "[encoded data removed]",
      "text/plain": [
       "<Figure size 432x288 with 1 Axes>"
      ]
     },
     "metadata": {
      "needs_background": "light"
     },
     "output_type": "display_data"
    }
   ],
   "source": [
    "# Location 1 distribution\n",
    "df['Location 1'].plot(kind = 'hist')"
   ]
  },
  {
   "cell_type": "code",
   "execution_count": 210,
   "metadata": {},
   "outputs": [
    {
     "data": {
      "text/plain": [
       "<matplotlib.axes._subplots.AxesSubplot at 0x1c4a5475280>"
      ]
     },
     "execution_count": 210,
     "metadata": {},
     "output_type": "execute_result"
    },
    {
     "data": {
      "image/png": "[encoded data removed]",
      "text/plain": [
       "<Figure size 432x288 with 1 Axes>"
      ]
     },
     "metadata": {
      "needs_background": "light"
     },
     "output_type": "display_data"
    }
   ],
   "source": [
    "# Location 2 distribution\n",
    "df['Location 2'].plot(kind = 'hist')"
   ]
  },
  {
   "cell_type": "code",
   "execution_count": 211,
   "metadata": {},
   "outputs": [
    {
     "data": {
      "text/plain": [
       "<matplotlib.axes._subplots.AxesSubplot at 0x1c4a4f91b80>"
      ]
     },
     "execution_count": 211,
     "metadata": {},
     "output_type": "execute_result"
    },
    {
     "data": {
      "image/png": "[encoded data removed]",
      "text/plain": [
       "<Figure size 432x288 with 1 Axes>"
      ]
     },
     "metadata": {
      "needs_background": "light"
     },
     "output_type": "display_data"
    }
   ],
   "source": [
    "# Location 2 distribution log\n",
    "distribution = np.log(df['Location 2'])\n",
    "distribution.plot(kind = 'hist')"
   ]
  },
  {
   "cell_type": "code",
   "execution_count": 212,
   "metadata": {},
   "outputs": [
    {
     "data": {
      "text/plain": [
       "<matplotlib.axes._subplots.AxesSubplot at 0x1c4a3e410d0>"
      ]
     },
     "execution_count": 212,
     "metadata": {},
     "output_type": "execute_result"
    },
    {
     "data": {
      "image/png": "[encoded data removed]",
      "text/plain": [
       "<Figure size 432x288 with 1 Axes>"
      ]
     },
     "metadata": {
      "needs_background": "light"
     },
     "output_type": "display_data"
    }
   ],
   "source": [
    "# Location 3 distribution\n",
    "df['Location 3'].plot(kind = 'hist')"
   ]
  },
  {
   "cell_type": "code",
   "execution_count": 213,
   "metadata": {},
   "outputs": [
    {
     "data": {
      "text/plain": [
       "<matplotlib.axes._subplots.AxesSubplot at 0x1c4a3a38790>"
      ]
     },
     "execution_count": 213,
     "metadata": {},
     "output_type": "execute_result"
    },
    {
     "data": {
      "image/png": "[encoded data removed]",
      "text/plain": [
       "<Figure size 432x288 with 1 Axes>"
      ]
     },
     "metadata": {
      "needs_background": "light"
     },
     "output_type": "display_data"
    }
   ],
   "source": [
    "# Location 3 distribution log\n",
    "distribution = np.log(df['Location 3'])\n",
    "distribution.plot(kind = 'hist')"
   ]
  },
  {
   "cell_type": "code",
   "execution_count": 214,
   "metadata": {},
   "outputs": [
    {
     "data": {
      "text/plain": [
       "<matplotlib.axes._subplots.AxesSubplot at 0x1c4a564ad30>"
      ]
     },
     "execution_count": 214,
     "metadata": {},
     "output_type": "execute_result"
    },
    {
     "data": {
      "image/png": "[encoded data removed]",
      "text/plain": [
       "<Figure size 432x288 with 1 Axes>"
      ]
     },
     "metadata": {
      "needs_background": "light"
     },
     "output_type": "display_data"
    }
   ],
   "source": [
    "# Location 4 distribution\n",
    "df['Location 4'].plot(kind = 'hist')"
   ]
  },
  {
   "cell_type": "code",
   "execution_count": 215,
   "metadata": {},
   "outputs": [
    {
     "data": {
      "text/plain": [
       "<matplotlib.axes._subplots.AxesSubplot at 0x1c4a5110df0>"
      ]
     },
     "execution_count": 215,
     "metadata": {},
     "output_type": "execute_result"
    },
    {
     "data": {
      "image/png": "[encoded data removed]",
      "text/plain": [
       "<Figure size 432x288 with 1 Axes>"
      ]
     },
     "metadata": {
      "needs_background": "light"
     },
     "output_type": "display_data"
    }
   ],
   "source": [
    "# Location 4 distribution log\n",
    "distribution = np.log(df['Location 4'])\n",
    "distribution.plot(kind = 'hist')"
   ]
  },
  {
   "cell_type": "code",
   "execution_count": 216,
   "metadata": {},
   "outputs": [
    {
     "data": {
      "text/plain": [
       "ActualPower     1\n",
       "Max Capacity    2\n",
       "Location 1      0\n",
       "Location 2      1\n",
       "Location 3      0\n",
       "Location 4      1\n",
       "dtype: int64"
      ]
     },
     "execution_count": 216,
     "metadata": {},
     "output_type": "execute_result"
    }
   ],
   "source": [
    "df.isnull().sum()\n",
    "# Таким образом мы имеем пропущенные значения в таких колонках:"
   ]
  },
  {
   "cell_type": "code",
   "execution_count": 217,
   "metadata": {},
   "outputs": [],
   "source": [
    "# Taking care of missing data\n",
    "# https://scikit-learn.org/\n",
    "from sklearn.impute import SimpleImputer\n",
    "#numeric\n",
    "df[['ActualPower']] = SimpleImputer(missing_values=np.nan, strategy='mean').fit_transform(df[['ActualPower']]).round()\n",
    "df[['Max Capacity']] = SimpleImputer(missing_values=np.nan, strategy='mean').fit_transform(df[['Max Capacity']]).round()\n",
    "df[['Location 2']] = SimpleImputer(missing_values=np.nan, strategy='mean').fit_transform(df[['Location 2']]).round()\n",
    "df[['Location 4']] = SimpleImputer(missing_values=np.nan, strategy='mean').fit_transform(df[['Location 4']]).round()"
   ]
  },
  {
   "cell_type": "code",
   "execution_count": 218,
   "metadata": {},
   "outputs": [],
   "source": [
    "df_log = pd.DataFrame()\n",
    "df_log['ActualPower']=df['ActualPower']\n",
    "df_log['Max Capacity']=np.log(df['Max Capacity'])\n",
    "df_log['Location 1']=df['Location 1']\n",
    "df_log['Location 2']=np.log(df['Location 2'])\n",
    "df_log['Location 3']=np.log(df['Location 3'])\n",
    "df_log['Location 4']=np.log(df['Location 4'])"
   ]
  },
  {
   "cell_type": "markdown",
   "metadata": {},
   "source": [
    "## Linear Regression"
   ]
  },
  {
   "cell_type": "code",
   "execution_count": 219,
   "metadata": {},
   "outputs": [
    {
     "data": {
      "text/html": [
       "<div>\n",
       "<style scoped>\n",
       "    .dataframe tbody tr th:only-of-type {\n",
       "        vertical-align: middle;\n",
       "    }\n",
       "\n",
       "    .dataframe tbody tr th {\n",
       "        vertical-align: top;\n",
       "    }\n",
       "\n",
       "    .dataframe thead th {\n",
       "        text-align: right;\n",
       "    }\n",
       "</style>\n",
       "<table border=\"1\" class=\"dataframe\">\n",
       "  <thead>\n",
       "    <tr style=\"text-align: right;\">\n",
       "      <th></th>\n",
       "      <th>ActualPower</th>\n",
       "      <th>Max Capacity</th>\n",
       "      <th>Location 1</th>\n",
       "      <th>Location 2</th>\n",
       "      <th>Location 3</th>\n",
       "      <th>Location 4</th>\n",
       "    </tr>\n",
       "  </thead>\n",
       "  <tbody>\n",
       "    <tr>\n",
       "      <th>0</th>\n",
       "      <td>0.0</td>\n",
       "      <td>3.806662</td>\n",
       "      <td>3.9</td>\n",
       "      <td>1.098612</td>\n",
       "      <td>-1.439695</td>\n",
       "      <td>1.098612</td>\n",
       "    </tr>\n",
       "    <tr>\n",
       "      <th>1</th>\n",
       "      <td>0.0</td>\n",
       "      <td>3.806662</td>\n",
       "      <td>4.2</td>\n",
       "      <td>1.098612</td>\n",
       "      <td>-1.370421</td>\n",
       "      <td>1.098612</td>\n",
       "    </tr>\n",
       "    <tr>\n",
       "      <th>2</th>\n",
       "      <td>1.0</td>\n",
       "      <td>3.806662</td>\n",
       "      <td>4.0</td>\n",
       "      <td>1.386294</td>\n",
       "      <td>-1.390302</td>\n",
       "      <td>1.386294</td>\n",
       "    </tr>\n",
       "    <tr>\n",
       "      <th>3</th>\n",
       "      <td>2.0</td>\n",
       "      <td>3.806662</td>\n",
       "      <td>4.0</td>\n",
       "      <td>1.386294</td>\n",
       "      <td>-1.148854</td>\n",
       "      <td>1.386294</td>\n",
       "    </tr>\n",
       "    <tr>\n",
       "      <th>4</th>\n",
       "      <td>4.0</td>\n",
       "      <td>3.806662</td>\n",
       "      <td>3.3</td>\n",
       "      <td>1.386294</td>\n",
       "      <td>-1.244795</td>\n",
       "      <td>1.386294</td>\n",
       "    </tr>\n",
       "    <tr>\n",
       "      <th>...</th>\n",
       "      <td>...</td>\n",
       "      <td>...</td>\n",
       "      <td>...</td>\n",
       "      <td>...</td>\n",
       "      <td>...</td>\n",
       "      <td>...</td>\n",
       "    </tr>\n",
       "    <tr>\n",
       "      <th>289</th>\n",
       "      <td>1.0</td>\n",
       "      <td>3.784190</td>\n",
       "      <td>4.0</td>\n",
       "      <td>1.791759</td>\n",
       "      <td>1.746239</td>\n",
       "      <td>1.791759</td>\n",
       "    </tr>\n",
       "    <tr>\n",
       "      <th>290</th>\n",
       "      <td>1.0</td>\n",
       "      <td>3.784190</td>\n",
       "      <td>3.2</td>\n",
       "      <td>1.098612</td>\n",
       "      <td>0.952044</td>\n",
       "      <td>1.098612</td>\n",
       "    </tr>\n",
       "    <tr>\n",
       "      <th>291</th>\n",
       "      <td>2.0</td>\n",
       "      <td>3.784190</td>\n",
       "      <td>3.6</td>\n",
       "      <td>1.098612</td>\n",
       "      <td>0.903813</td>\n",
       "      <td>1.098612</td>\n",
       "    </tr>\n",
       "    <tr>\n",
       "      <th>292</th>\n",
       "      <td>1.0</td>\n",
       "      <td>3.784190</td>\n",
       "      <td>3.9</td>\n",
       "      <td>1.098612</td>\n",
       "      <td>0.870037</td>\n",
       "      <td>1.098612</td>\n",
       "    </tr>\n",
       "    <tr>\n",
       "      <th>293</th>\n",
       "      <td>3.0</td>\n",
       "      <td>3.784190</td>\n",
       "      <td>4.3</td>\n",
       "      <td>1.098612</td>\n",
       "      <td>0.837680</td>\n",
       "      <td>1.098612</td>\n",
       "    </tr>\n",
       "  </tbody>\n",
       "</table>\n",
       "<p>294 rows × 6 columns</p>\n",
       "</div>"
      ],
      "text/plain": [
       "     ActualPower  Max Capacity  Location 1  Location 2  Location 3  Location 4\n",
       "0            0.0      3.806662         3.9    1.098612   -1.439695    1.098612\n",
       "1            0.0      3.806662         4.2    1.098612   -1.370421    1.098612\n",
       "2            1.0      3.806662         4.0    1.386294   -1.390302    1.386294\n",
       "3            2.0      3.806662         4.0    1.386294   -1.148854    1.386294\n",
       "4            4.0      3.806662         3.3    1.386294   -1.244795    1.386294\n",
       "..           ...           ...         ...         ...         ...         ...\n",
       "289          1.0      3.784190         4.0    1.791759    1.746239    1.791759\n",
       "290          1.0      3.784190         3.2    1.098612    0.952044    1.098612\n",
       "291          2.0      3.784190         3.6    1.098612    0.903813    1.098612\n",
       "292          1.0      3.784190         3.9    1.098612    0.870037    1.098612\n",
       "293          3.0      3.784190         4.3    1.098612    0.837680    1.098612\n",
       "\n",
       "[294 rows x 6 columns]"
      ]
     },
     "execution_count": 219,
     "metadata": {},
     "output_type": "execute_result"
    }
   ],
   "source": [
    "df_log"
   ]
  },
  {
   "cell_type": "code",
   "execution_count": 220,
   "metadata": {},
   "outputs": [
    {
     "data": {
      "text/html": [
       "<div>\n",
       "<style scoped>\n",
       "    .dataframe tbody tr th:only-of-type {\n",
       "        vertical-align: middle;\n",
       "    }\n",
       "\n",
       "    .dataframe tbody tr th {\n",
       "        vertical-align: top;\n",
       "    }\n",
       "\n",
       "    .dataframe thead th {\n",
       "        text-align: right;\n",
       "    }\n",
       "</style>\n",
       "<table border=\"1\" class=\"dataframe\">\n",
       "  <thead>\n",
       "    <tr style=\"text-align: right;\">\n",
       "      <th></th>\n",
       "      <th>ActualPower</th>\n",
       "      <th>Max Capacity</th>\n",
       "      <th>Location 1</th>\n",
       "      <th>Location 2</th>\n",
       "      <th>Location 3</th>\n",
       "      <th>Location 4</th>\n",
       "    </tr>\n",
       "  </thead>\n",
       "  <tbody>\n",
       "    <tr>\n",
       "      <th>ActualPower</th>\n",
       "      <td>1.000000</td>\n",
       "      <td>-0.407536</td>\n",
       "      <td>0.379332</td>\n",
       "      <td>0.433053</td>\n",
       "      <td>0.115857</td>\n",
       "      <td>0.393509</td>\n",
       "    </tr>\n",
       "    <tr>\n",
       "      <th>Max Capacity</th>\n",
       "      <td>-0.407536</td>\n",
       "      <td>1.000000</td>\n",
       "      <td>-0.536676</td>\n",
       "      <td>-0.199666</td>\n",
       "      <td>-0.255722</td>\n",
       "      <td>-0.301019</td>\n",
       "    </tr>\n",
       "    <tr>\n",
       "      <th>Location 1</th>\n",
       "      <td>0.379332</td>\n",
       "      <td>-0.536676</td>\n",
       "      <td>1.000000</td>\n",
       "      <td>0.625311</td>\n",
       "      <td>0.656575</td>\n",
       "      <td>0.721600</td>\n",
       "    </tr>\n",
       "    <tr>\n",
       "      <th>Location 2</th>\n",
       "      <td>0.433053</td>\n",
       "      <td>-0.199666</td>\n",
       "      <td>0.625311</td>\n",
       "      <td>1.000000</td>\n",
       "      <td>0.626065</td>\n",
       "      <td>0.932485</td>\n",
       "    </tr>\n",
       "    <tr>\n",
       "      <th>Location 3</th>\n",
       "      <td>0.115857</td>\n",
       "      <td>-0.255722</td>\n",
       "      <td>0.656575</td>\n",
       "      <td>0.626065</td>\n",
       "      <td>1.000000</td>\n",
       "      <td>0.794625</td>\n",
       "    </tr>\n",
       "    <tr>\n",
       "      <th>Location 4</th>\n",
       "      <td>0.393509</td>\n",
       "      <td>-0.301019</td>\n",
       "      <td>0.721600</td>\n",
       "      <td>0.932485</td>\n",
       "      <td>0.794625</td>\n",
       "      <td>1.000000</td>\n",
       "    </tr>\n",
       "  </tbody>\n",
       "</table>\n",
       "</div>"
      ],
      "text/plain": [
       "              ActualPower  Max Capacity  Location 1  Location 2  Location 3  \\\n",
       "ActualPower      1.000000     -0.407536    0.379332    0.433053    0.115857   \n",
       "Max Capacity    -0.407536      1.000000   -0.536676   -0.199666   -0.255722   \n",
       "Location 1       0.379332     -0.536676    1.000000    0.625311    0.656575   \n",
       "Location 2       0.433053     -0.199666    0.625311    1.000000    0.626065   \n",
       "Location 3       0.115857     -0.255722    0.656575    0.626065    1.000000   \n",
       "Location 4       0.393509     -0.301019    0.721600    0.932485    0.794625   \n",
       "\n",
       "              Location 4  \n",
       "ActualPower     0.393509  \n",
       "Max Capacity   -0.301019  \n",
       "Location 1      0.721600  \n",
       "Location 2      0.932485  \n",
       "Location 3      0.794625  \n",
       "Location 4      1.000000  "
      ]
     },
     "execution_count": 220,
     "metadata": {},
     "output_type": "execute_result"
    }
   ],
   "source": [
    "# Cheking correlations\n",
    "df_log.corr()"
   ]
  },
  {
   "cell_type": "code",
   "execution_count": 221,
   "metadata": {},
   "outputs": [
    {
     "data": {
      "image/png": "[encoded data removed]",
      "text/plain": [
       "<Figure size 720x720 with 36 Axes>"
      ]
     },
     "metadata": {
      "needs_background": "light"
     },
     "output_type": "display_data"
    }
   ],
   "source": [
    "from pandas.plotting import scatter_matrix\n",
    "scatter_matrix(df_log, alpha=0.2, figsize=(10, 10))\n",
    "plt.show()"
   ]
  },
  {
   "cell_type": "code",
   "execution_count": 222,
   "metadata": {},
   "outputs": [],
   "source": [
    "# Splitting the dataset into the Training set and Test set\n",
    "X = df_log.iloc[:, 1:6].values\n",
    "y = df_log.iloc[:, 0].values\n",
    "from sklearn.model_selection import train_test_split\n",
    "X_train, X_test, y_train, y_test = train_test_split(X, y, test_size=0.2, random_state=0)"
   ]
  },
  {
   "cell_type": "code",
   "execution_count": 223,
   "metadata": {},
   "outputs": [],
   "source": [
    "# Fitting Simple Linear Regression to the Training set (ActualPower)\n",
    "from sklearn.linear_model import LinearRegression\n",
    "sr = LinearRegression().fit(X_train[:, 2:3], y_train)"
   ]
  },
  {
   "cell_type": "code",
   "execution_count": 224,
   "metadata": {},
   "outputs": [
    {
     "data": {
      "text/plain": [
       "(array([17.91103715]), -21.049657078580022)"
      ]
     },
     "execution_count": 224,
     "metadata": {},
     "output_type": "execute_result"
    }
   ],
   "source": [
    "# Getting parameters\n",
    "sr.coef_, sr.intercept_"
   ]
  },
  {
   "cell_type": "code",
   "execution_count": 225,
   "metadata": {},
   "outputs": [],
   "source": [
    "# Predicting the Test set results\n",
    "y_pred = sr.predict(X_test[:, 2:3])"
   ]
  },
  {
   "cell_type": "code",
   "execution_count": 226,
   "metadata": {},
   "outputs": [
    {
     "data": {
      "text/plain": [
       "(0.1908749365272442, 0.17233498442617246)"
      ]
     },
     "execution_count": 226,
     "metadata": {},
     "output_type": "execute_result"
    }
   ],
   "source": [
    "# Coefficient of determination R^2\n",
    "sr.score(X_train[:, 2:3], y_train), sr.score(X_test[:, 2:3], y_test)"
   ]
  },
  {
   "cell_type": "code",
   "execution_count": 227,
   "metadata": {},
   "outputs": [
    {
     "data": {
      "text/plain": [
       "(77.54786471167098, 80.32036031055034)"
      ]
     },
     "execution_count": 227,
     "metadata": {},
     "output_type": "execute_result"
    }
   ],
   "source": [
    "# Mean squared error\n",
    "from sklearn.metrics import mean_squared_error\n",
    "mean_squared_error(y_train, sr.predict(X_train[:, 2:3])), mean_squared_error(y_test, y_pred)"
   ]
  },
  {
   "cell_type": "code",
   "execution_count": 228,
   "metadata": {},
   "outputs": [
    {
     "data": {
      "image/png": "[encoded data removed]",
      "text/plain": [
       "<Figure size 432x288 with 1 Axes>"
      ]
     },
     "metadata": {
      "needs_background": "light"
     },
     "output_type": "display_data"
    }
   ],
   "source": [
    "# Visualising the Training set results\n",
    "plt.scatter(X_train[:,2], y_train, color = 'red')\n",
    "plt.plot(X_train[:,2], sr.predict(X_train[:, 2:3]), 'bo')\n",
    "plt.title('ActualPower vs Location 2 (Training set)')\n",
    "plt.xlabel('Location 2')\n",
    "plt.ylabel('ActualPower')\n",
    "plt.show()"
   ]
  },
  {
   "cell_type": "code",
   "execution_count": 229,
   "metadata": {},
   "outputs": [
    {
     "data": {
      "image/png": "[encoded data removed]",
      "text/plain": [
       "<Figure size 432x288 with 1 Axes>"
      ]
     },
     "metadata": {
      "needs_background": "light"
     },
     "output_type": "display_data"
    }
   ],
   "source": [
    "# Visualising the Test set results\n",
    "plt.scatter(X_test[:,2], y_test, color = 'red')\n",
    "plt.plot(X_test[:,2], sr.predict(X_test[:, 2:3]), 'bo')\n",
    "plt.title('ActualPower vs Location 2 (Test set)')\n",
    "plt.xlabel('Location 2')\n",
    "plt.ylabel('ActualPower')\n",
    "plt.show()"
   ]
  },
  {
   "cell_type": "code",
   "execution_count": 230,
   "metadata": {},
   "outputs": [],
   "source": [
    "# Fitting Multiple Linear Regression to the Training set\n",
    "from sklearn.linear_model import LinearRegression\n",
    "mr = LinearRegression().fit(X_train, y_train)"
   ]
  },
  {
   "cell_type": "code",
   "execution_count": 231,
   "metadata": {},
   "outputs": [
    {
     "data": {
      "text/plain": [
       "(array([-80.32771757,   0.43800275,  14.7619549 ,  -5.71477801,\n",
       "          9.2965157 ]),\n",
       " 276.04715900565003)"
      ]
     },
     "execution_count": 231,
     "metadata": {},
     "output_type": "execute_result"
    }
   ],
   "source": [
    "# Getting parameters\n",
    "mr.coef_, mr.intercept_"
   ]
  },
  {
   "cell_type": "code",
   "execution_count": 232,
   "metadata": {},
   "outputs": [],
   "source": [
    "# Predicting the Test set results\n",
    "y_pred = mr.predict(X_test)"
   ]
  },
  {
   "cell_type": "code",
   "execution_count": 233,
   "metadata": {},
   "outputs": [
    {
     "data": {
      "text/plain": [
       "(0.3510663176818859, 0.44470012975574835)"
      ]
     },
     "execution_count": 233,
     "metadata": {},
     "output_type": "execute_result"
    }
   ],
   "source": [
    "# Coefficient of determination R^2\n",
    "mr.score(X_train, y_train), mr.score(X_test, y_test)"
   ]
  },
  {
   "cell_type": "code",
   "execution_count": 234,
   "metadata": {},
   "outputs": [
    {
     "data": {
      "text/plain": [
       "(62.194861678445626, 53.88881349237319)"
      ]
     },
     "execution_count": 234,
     "metadata": {},
     "output_type": "execute_result"
    }
   ],
   "source": [
    "# Mean squared error\n",
    "from sklearn.metrics import mean_squared_error\n",
    "mean_squared_error(y_train, mr.predict(X_train)), mean_squared_error(y_test, y_pred)"
   ]
  },
  {
   "cell_type": "code",
   "execution_count": 235,
   "metadata": {},
   "outputs": [
    {
     "data": {
      "text/plain": [
       "array([5.70052315e-05, 7.64209939e-06, 2.47648080e-01, 4.69894962e-02,\n",
       "       1.94119385e-05, 2.94837682e-01])"
      ]
     },
     "execution_count": 235,
     "metadata": {},
     "output_type": "execute_result"
    }
   ],
   "source": [
    "# !pip install statsmodels\n",
    "# p-values\n",
    "import statsmodels.api as sm\n",
    "X = sm.add_constant(X_train)\n",
    "mr1 = sm.OLS(y_train, X).fit()\n",
    "mr1.pvalues\n",
    "#mr1.summary()"
   ]
  },
  {
   "cell_type": "code",
   "execution_count": 236,
   "metadata": {},
   "outputs": [
    {
     "data": {
      "image/png": "[encoded data removed]",
      "text/plain": [
       "<Figure size 432x288 with 1 Axes>"
      ]
     },
     "metadata": {
      "needs_background": "light"
     },
     "output_type": "display_data"
    }
   ],
   "source": [
    "# Visualising the Training set results\n",
    "plt.scatter(X_train[:,2], y_train, color = 'red')\n",
    "plt.plot(X_train[:,2], mr.predict(X_train), 'bo')\n",
    "plt.title('ActualPower vs Location 2 (Training set)')\n",
    "plt.xlabel('Location 2')\n",
    "plt.ylabel('ActualPower')\n",
    "plt.show()"
   ]
  },
  {
   "cell_type": "code",
   "execution_count": 237,
   "metadata": {},
   "outputs": [
    {
     "data": {
      "image/png": "[encoded data removed]",
      "text/plain": [
       "<Figure size 432x288 with 1 Axes>"
      ]
     },
     "metadata": {
      "needs_background": "light"
     },
     "output_type": "display_data"
    }
   ],
   "source": [
    "# Visualising the Test set results\n",
    "plt.scatter(X_test[:,2], y_test, color = 'red')\n",
    "plt.plot(X_test[:,2], mr.predict(X_test), 'bo')\n",
    "plt.title('ActualPower vs Location 2 (Test set)')\n",
    "plt.xlabel('Location 2')\n",
    "plt.ylabel('ActualPower')\n",
    "plt.show()"
   ]
  },
  {
   "cell_type": "code",
   "execution_count": 238,
   "metadata": {},
   "outputs": [],
   "source": [
    "# Fitting Polynomial Regression to the dataset\n",
    "from sklearn.preprocessing import PolynomialFeatures\n",
    "X_train_p = PolynomialFeatures().fit_transform(X_train[:, 2:3])\n",
    "X_test_p = PolynomialFeatures().fit_transform(X_test[:, 2:3])\n",
    "pr = LinearRegression().fit(X_train_p[:,1:], y_train)"
   ]
  },
  {
   "cell_type": "code",
   "execution_count": 239,
   "metadata": {},
   "outputs": [
    {
     "data": {
      "text/plain": [
       "(array([18.1034046 , -0.05165562]), -21.22284326775601)"
      ]
     },
     "execution_count": 239,
     "metadata": {},
     "output_type": "execute_result"
    }
   ],
   "source": [
    "# Getting parameters\n",
    "pr.coef_, pr.intercept_"
   ]
  },
  {
   "cell_type": "code",
   "execution_count": 240,
   "metadata": {},
   "outputs": [],
   "source": [
    "# Predicting the Test set results\n",
    "y_pred = pr.predict(X_test_p[:,1:])"
   ]
  },
  {
   "cell_type": "code",
   "execution_count": 241,
   "metadata": {},
   "outputs": [
    {
     "data": {
      "text/plain": [
       "(0.19087526134588262, 0.1721999186006038)"
      ]
     },
     "execution_count": 241,
     "metadata": {},
     "output_type": "execute_result"
    }
   ],
   "source": [
    "# Coefficient of determination R^2\n",
    "pr.score(X_train_p[:,1:], y_train), pr.score(X_test_p[:,1:], y_test)"
   ]
  },
  {
   "cell_type": "code",
   "execution_count": 242,
   "metadata": {},
   "outputs": [
    {
     "data": {
      "text/plain": [
       "(77.54783358052332, 80.33346770976522)"
      ]
     },
     "execution_count": 242,
     "metadata": {},
     "output_type": "execute_result"
    }
   ],
   "source": [
    "# Mean squared error\n",
    "from sklearn.metrics import mean_squared_error\n",
    "mean_squared_error(y_train, pr.predict(X_train_p[:,1:])), mean_squared_error(y_test, y_pred)"
   ]
  },
  {
   "cell_type": "code",
   "execution_count": 243,
   "metadata": {},
   "outputs": [
    {
     "data": {
      "image/png": "[encoded data removed]",
      "text/plain": [
       "<Figure size 432x288 with 1 Axes>"
      ]
     },
     "metadata": {
      "needs_background": "light"
     },
     "output_type": "display_data"
    }
   ],
   "source": [
    "# Visualising the Training set results\n",
    "plt.scatter(X_train[:,2], y_train, color = 'red')\n",
    "plt.plot(X_train[:,2], pr.predict(X_train_p[:,1:]), 'bo')\n",
    "plt.title('ActualPower vs Location 2 (Training set)')\n",
    "plt.xlabel('Location 2')\n",
    "plt.ylabel('ActualPower')\n",
    "plt.show()"
   ]
  },
  {
   "cell_type": "code",
   "execution_count": 244,
   "metadata": {},
   "outputs": [
    {
     "data": {
      "image/png": "[encoded data removed]",
      "text/plain": [
       "<Figure size 432x288 with 1 Axes>"
      ]
     },
     "metadata": {
      "needs_background": "light"
     },
     "output_type": "display_data"
    }
   ],
   "source": [
    "# Visualising the Test set results\n",
    "plt.scatter(X_test[:,2], y_test, color = 'red')\n",
    "plt.plot(X_test[:,2], pr.predict(X_test_p[:,1:]), 'bo')\n",
    "plt.title('ActualPower vs Location 2 (Test set)')\n",
    "plt.xlabel('Location 2')\n",
    "plt.ylabel('ActualPower')\n",
    "plt.show()"
   ]
  },
  {
   "cell_type": "code",
   "execution_count": 245,
   "metadata": {},
   "outputs": [],
   "source": [
    "# Backward Elimination with p-values\n",
    "import statsmodels.api as sm\n",
    "def backwardElimination(x, sl):\n",
    "    numVars = len(x[0])\n",
    "    for i in range(0, numVars):\n",
    "        regressor_OLS = sm.OLS(y, x).fit()\n",
    "        maxVar = max(regressor_OLS.pvalues).astype(float)\n",
    "        if maxVar > sl:\n",
    "            for j in range(0, numVars - i):\n",
    "                if (regressor_OLS.pvalues[j].astype(float) == maxVar):\n",
    "                    x = np.delete(x, j, 1)\n",
    "    regressor_OLS.summary()\n",
    "    return x\n",
    "         \n",
    "SL = 0.05\n",
    "X_opt = X_train[:, [0, 1, 2, 3, 4]]\n",
    "y = y_train\n",
    "X_Modeled = backwardElimination(X_opt, SL)"
   ]
  },
  {
   "cell_type": "code",
   "execution_count": 246,
   "metadata": {},
   "outputs": [
    {
     "data": {
      "text/plain": [
       "array([[ 3.80666249,  7.6       ,  1.83848401,  2.19722458],\n",
       "       [ 3.80666249,  7.3       ,  1.86810304,  2.39789527],\n",
       "       [ 3.80666249,  6.1       ,  1.03673688,  2.07944154],\n",
       "       [ 3.80666249,  6.8       ,  1.95302762,  2.19722458],\n",
       "       [ 3.80666249,  7.8       ,  1.82358108,  2.07944154],\n",
       "       [ 3.78418963,  9.3       ,  2.10132534,  2.39789527],\n",
       "       [ 3.78418963,  4.7       ,  1.67109729,  2.07944154],\n",
       "       [ 3.80666249,  6.9       ,  1.53772706,  2.07944154],\n",
       "       [ 3.78418963,  6.5       ,  1.71054941,  2.07944154],\n",
       "       [ 3.78418963,  4.        ,  1.74623895,  1.79175947],\n",
       "       [ 3.80666249,  7.3       ,  1.72026347,  2.39789527],\n",
       "       [ 3.78418963,  4.4       ,  1.79641528,  1.94591015],\n",
       "       [ 3.78418963,  6.        ,  1.71972627,  2.19722458],\n",
       "       [ 3.80666249,  5.3       ,  1.5723589 ,  2.19722458],\n",
       "       [ 3.73766962, 10.7       ,  2.1071783 ,  2.39789527],\n",
       "       [ 3.78418963,  6.8       ,  1.80104952,  2.19722458],\n",
       "       [ 3.78418963, 11.9       ,  1.97060276,  2.30258509],\n",
       "       [ 3.78418963,  9.8       ,  2.0514278 ,  2.30258509],\n",
       "       [ 3.78418963, 10.1       ,  2.08168901,  2.30258509],\n",
       "       [ 3.80666249,  8.1       ,  1.76883196,  2.30258509],\n",
       "       [ 3.80666249,  7.        ,  1.8757942 ,  2.19722458],\n",
       "       [ 3.68887945, 11.8       ,  2.0483378 ,  2.39789527],\n",
       "       [ 3.80666249,  6.5       ,  1.49671704,  2.07944154],\n",
       "       [ 3.80666249,  7.1       ,  1.94276234,  2.19722458],\n",
       "       [ 3.78418963, 11.4       ,  2.16113673,  2.30258509],\n",
       "       [ 3.80666249,  7.4       ,  1.83705146,  2.07944154],\n",
       "       [ 3.63758616, 10.1       ,  2.0872857 ,  2.30258509],\n",
       "       [ 3.78418963, 11.1       ,  2.10936436,  2.30258509],\n",
       "       [ 3.80666249,  9.        ,  1.90389697,  2.19722458],\n",
       "       [ 3.78418963, 11.        ,  2.20475173,  2.30258509],\n",
       "       [ 3.80666249,  3.7       ,  0.35276732,  1.94591015],\n",
       "       [ 3.78418963,  6.6       ,  1.73536547,  2.19722458],\n",
       "       [ 3.78418963, 11.4       ,  2.20088454,  2.30258509],\n",
       "       [ 3.80666249,  8.8       ,  1.67709656,  2.07944154],\n",
       "       [ 3.78418963,  6.8       ,  1.6624098 ,  2.19722458],\n",
       "       [ 3.80666249,  7.4       ,  1.85910654,  2.39789527],\n",
       "       [ 3.80666249,  7.1       ,  1.81661467,  2.19722458],\n",
       "       [ 3.78418963, 11.2       ,  2.16859645,  2.30258509],\n",
       "       [ 3.78418963,  6.        ,  1.83033895,  1.94591015],\n",
       "       [ 3.78418963,  4.4       ,  1.77121657,  1.94591015],\n",
       "       [ 3.78418963,  5.8       ,  1.71181398,  2.07944154],\n",
       "       [ 3.80666249,  6.8       ,  1.66525098,  2.19722458],\n",
       "       [ 3.80666249,  6.5       ,  1.58186114,  2.19722458],\n",
       "       [ 3.78418963,  4.4       ,  1.77240674,  1.94591015],\n",
       "       [ 3.80666249,  8.3       ,  1.74885197,  2.30258509],\n",
       "       [ 3.78418963,  9.7       ,  1.92803709,  2.30258509],\n",
       "       [ 3.78418963,  5.5       ,  1.83705146,  1.94591015],\n",
       "       [ 3.80666249,  6.9       ,  1.1668938 ,  2.07944154],\n",
       "       [ 3.80666249,  8.9       ,  1.60683453,  2.19722458],\n",
       "       [ 3.66356165,  9.        ,  2.09568392,  2.39789527],\n",
       "       [ 3.80666249,  2.        , -0.51919387,  1.79175947],\n",
       "       [ 3.80666249,  7.1       ,  1.84229414,  2.19722458],\n",
       "       [ 3.80666249,  8.8       ,  1.79325835,  2.39789527],\n",
       "       [ 3.80666249,  8.        ,  1.72240939,  2.07944154],\n",
       "       [ 3.78418963,  9.1       ,  2.1102132 ,  2.39789527],\n",
       "       [ 3.78418963,  6.7       ,  1.74046617,  2.19722458],\n",
       "       [ 3.78418963,  7.8       ,  1.82131827,  2.07944154],\n",
       "       [ 3.78418963,  7.6       ,  1.66335775,  2.19722458],\n",
       "       [ 3.78418963,  5.1       ,  1.83226141,  1.94591015],\n",
       "       [ 3.80666249,  3.3       , -1.2447948 ,  1.38629436],\n",
       "       [ 3.80666249,  5.4       ,  1.54968791,  2.19722458],\n",
       "       [ 3.78418963,  7.5       ,  1.73871025,  2.19722458],\n",
       "       [ 3.80666249,  7.7       ,  1.78355927,  2.30258509],\n",
       "       [ 3.80666249,  6.9       ,  1.6690267 ,  2.19722458],\n",
       "       [ 3.80666249,  8.        ,  1.90165966,  2.39789527],\n",
       "       [ 3.80666249,  8.8       ,  1.95755635,  2.19722458],\n",
       "       [ 3.78418963, 11.6       ,  2.16056059,  2.30258509],\n",
       "       [ 3.80666249,  8.8       ,  1.90031488,  2.39789527],\n",
       "       [ 3.80666249,  8.        ,  1.48885095,  2.07944154],\n",
       "       [ 3.78418963,  9.7       ,  1.83322126,  2.19722458],\n",
       "       [ 3.78418963,  9.4       ,  1.95529455,  2.30258509],\n",
       "       [ 3.80666249,  6.8       ,  1.84324441,  2.07944154],\n",
       "       [ 3.78418963,  6.1       ,  1.83641411,  1.94591015],\n",
       "       [ 3.80666249,  8.9       ,  1.8916048 ,  2.30258509],\n",
       "       [ 3.78418963,  9.9       ,  1.77478285,  2.07944154],\n",
       "       [ 3.80666249,  1.3       , -0.94160854,  1.60943791],\n",
       "       [ 3.80666249,  6.8       ,  1.67747032,  2.19722458],\n",
       "       [ 3.78418963,  9.2       ,  1.95231815,  2.30258509],\n",
       "       [ 3.80666249,  4.        , -1.14885351,  1.38629436],\n",
       "       [ 3.78418963,  6.8       ,  1.90939435,  1.94591015],\n",
       "       [ 3.80666249,  8.3       ,  1.66184059,  2.07944154],\n",
       "       [ 3.80666249,  7.8       ,  1.37826219,  2.07944154],\n",
       "       [ 3.80666249,  8.7       ,  1.62195919,  2.19722458],\n",
       "       [ 3.80666249,  8.        ,  1.74134298,  2.30258509],\n",
       "       [ 3.78418963,  6.1       ,  1.82985776,  1.94591015],\n",
       "       [ 3.63758616, 13.1       ,  2.06660956,  2.48490665],\n",
       "       [ 3.80666249,  5.5       ,  0.77656879,  1.94591015],\n",
       "       [ 3.78418963,  7.2       ,  1.89085037,  1.94591015],\n",
       "       [ 3.78418963, 10.7       ,  2.11106133,  2.30258509],\n",
       "       [ 3.78418963,  6.6       ,  1.84435192,  1.94591015],\n",
       "       [ 3.80666249,  7.4       ,  1.65326339,  2.30258509],\n",
       "       [ 3.80666249,  8.9       ,  1.9729693 ,  2.19722458],\n",
       "       [ 3.80666249,  4.        , -1.39030238,  1.38629436],\n",
       "       [ 3.78418963,  9.4       ,  2.09801793,  2.30258509],\n",
       "       [ 3.80666249,  6.1       ,  1.70037491,  2.19722458],\n",
       "       [ 3.78418963,  4.7       ,  1.68658412,  2.07944154],\n",
       "       [ 3.80666249,  5.7       ,  1.52453341,  2.07944154],\n",
       "       [ 3.80666249,  2.2       , -1.24132859,  1.38629436],\n",
       "       [ 3.66356165, 12.1       ,  2.07103127,  2.39789527],\n",
       "       [ 3.80666249,  8.2       ,  1.77172682,  2.19722458],\n",
       "       [ 3.80666249,  9.3       ,  1.9145669 ,  2.30258509],\n",
       "       [ 3.80666249,  0.9       , -0.81418551,  1.79175947],\n",
       "       [ 3.78418963,  6.6       ,  1.72917459,  2.19722458],\n",
       "       [ 3.80666249,  8.4       ,  1.97948308,  2.19722458],\n",
       "       [ 3.78418963,  7.5       ,  1.87502774,  1.94591015],\n",
       "       [ 3.78418963, 11.5       ,  2.10608347,  2.30258509],\n",
       "       [ 3.80666249,  8.3       ,  1.6731636 ,  2.07944154],\n",
       "       [ 3.78418963,  3.2       ,  0.9520439 ,  1.09861229],\n",
       "       [ 3.80666249,  7.3       ,  1.81319475,  2.30258509],\n",
       "       [ 3.78418963,  9.        ,  1.81221548,  2.07944154],\n",
       "       [ 3.63758616,  8.9       ,  2.09075233,  2.30258509],\n",
       "       [ 3.80666249,  9.2       ,  1.6654401 ,  2.19722458],\n",
       "       [ 3.66356165, 11.5       ,  2.06913865,  2.39789527],\n",
       "       [ 3.78418963,  6.5       ,  1.83449962,  1.94591015],\n",
       "       [ 3.80666249,  7.1       ,  1.93888553,  2.30258509],\n",
       "       [ 3.78418963,  6.7       ,  1.95896739,  2.07944154],\n",
       "       [ 3.80666249,  7.        ,  1.88494618,  2.19722458],\n",
       "       [ 3.78418963,  9.1       ,  1.94748034,  2.30258509],\n",
       "       [ 3.63758616, 13.2       ,  2.09482264,  2.48490665],\n",
       "       [ 3.80666249,  8.1       ,  1.82503305,  2.07944154],\n",
       "       [ 3.78418963,  7.4       ,  1.67747032,  2.07944154],\n",
       "       [ 3.78418963, 11.7       ,  2.19210036,  2.30258509],\n",
       "       [ 3.80666249,  5.9       ,  1.62609835,  2.19722458],\n",
       "       [ 3.63758616, 13.3       ,  2.09062873,  2.48490665],\n",
       "       [ 3.80666249,  6.5       ,  1.50207539,  2.07944154],\n",
       "       [ 3.78418963,  5.2       ,  1.76181559,  1.94591015],\n",
       "       [ 3.78418963,  7.2       ,  1.74011524,  2.19722458],\n",
       "       [ 3.80666249,  7.4       ,  1.67297593,  2.30258509],\n",
       "       [ 3.78418963,  7.6       ,  1.75785792,  2.07944154],\n",
       "       [ 3.78418963,  7.2       ,  1.69249147,  2.07944154],\n",
       "       [ 3.80666249,  3.9       , -1.43969514,  1.09861229],\n",
       "       [ 3.80666249,  5.5       ,  1.51072194,  2.07944154],\n",
       "       [ 3.80666249,  5.7       ,  1.52757689,  2.07944154],\n",
       "       [ 3.78418963,  7.1       ,  1.92599894,  2.07944154],\n",
       "       [ 3.78418963,  6.5       ,  1.83529777,  1.94591015],\n",
       "       [ 3.80666249,  7.4       ,  1.886615  ,  2.39789527],\n",
       "       [ 3.80666249,  8.3       ,  1.97962121,  2.19722458],\n",
       "       [ 3.80666249,  8.8       ,  1.97241297,  2.19722458],\n",
       "       [ 3.80666249,  6.1       ,  1.54158725,  2.07944154],\n",
       "       [ 3.78418963,  3.6       ,  0.90381321,  1.09861229],\n",
       "       [ 3.80666249,  6.8       ,  1.87793717,  2.19722458],\n",
       "       [ 3.80666249,  7.        ,  1.32282194,  2.07944154],\n",
       "       [ 3.78418963, 11.        ,  2.17962619,  2.30258509],\n",
       "       [ 3.80666249,  8.1       ,  1.82744831,  2.07944154],\n",
       "       [ 3.80666249,  7.6       ,  1.8597296 ,  2.07944154],\n",
       "       [ 3.80666249,  8.        ,  1.71307695,  2.30258509],\n",
       "       [ 3.78418963,  9.5       ,  1.79192612,  2.07944154],\n",
       "       [ 3.80666249,  4.8       ,  1.67241271,  2.19722458],\n",
       "       [ 3.63758616, 12.9       ,  2.06293099,  2.48490665],\n",
       "       [ 3.80666249,  8.4       ,  1.71649698,  2.19722458],\n",
       "       [ 3.78418963,  6.8       ,  1.83370084,  1.94591015],\n",
       "       [ 3.78418963,  3.9       ,  0.87003735,  1.09861229],\n",
       "       [ 3.73766962, 11.        ,  2.01583592,  2.39789527],\n",
       "       [ 3.80666249,  2.4       , -1.98777435,  1.09861229],\n",
       "       [ 3.80666249,  6.5       ,  1.89626962,  2.39789527],\n",
       "       [ 3.78418963,  7.2       ,  1.93701355,  2.07944154],\n",
       "       [ 3.80666249,  6.5       ,  1.56129754,  2.19722458],\n",
       "       [ 3.78418963,  5.5       ,  1.66921512,  2.07944154],\n",
       "       [ 3.80666249,  8.2       ,  1.68138641,  2.07944154],\n",
       "       [ 3.80666249,  6.7       ,  1.88449057,  2.19722458],\n",
       "       [ 3.78418963,  8.3       ,  2.11323892,  2.19722458],\n",
       "       [ 3.78418963,  6.5       ,  1.83274145,  1.94591015],\n",
       "       [ 3.80666249,  7.8       ,  1.86856618,  2.07944154],\n",
       "       [ 3.78418963,  8.4       ,  2.0483378 ,  2.19722458],\n",
       "       [ 3.80666249,  5.8       ,  1.49335343,  2.07944154],\n",
       "       [ 3.80666249,  6.5       ,  1.60382217,  2.19722458],\n",
       "       [ 3.78418963,  5.        ,  1.76404563,  1.94591015],\n",
       "       [ 3.80666249,  1.9       , -1.09961279,  1.60943791],\n",
       "       [ 3.80666249,  8.4       ,  1.69982691,  2.07944154],\n",
       "       [ 3.80666249,  5.1       ,  1.70201709,  2.19722458],\n",
       "       [ 3.80666249,  7.1       ,  1.69818112,  2.30258509],\n",
       "       [ 3.80666249,  7.4       ,  1.81580146,  2.19722458],\n",
       "       [ 3.78418963,  5.5       ,  1.67297593,  2.07944154],\n",
       "       [ 3.78418963, 11.5       ,  2.13794627,  2.30258509],\n",
       "       [ 3.80666249,  7.5       ,  1.88843236,  2.39789527],\n",
       "       [ 3.80666249,  4.2       , -1.37042101,  1.09861229],\n",
       "       [ 3.80666249,  8.6       ,  1.68917288,  2.07944154],\n",
       "       [ 3.78418963,  7.3       ,  1.85957387,  1.94591015],\n",
       "       [ 3.78418963,  9.1       ,  1.9139771 ,  2.19722458],\n",
       "       [ 3.80666249,  7.7       ,  1.92861865,  2.30258509],\n",
       "       [ 3.80666249,  5.8       ,  1.6910179 ,  2.19722458],\n",
       "       [ 3.80666249,  8.3       ,  1.75768549,  2.19722458],\n",
       "       [ 3.80666249,  8.1       ,  1.68268837,  2.30258509],\n",
       "       [ 3.80666249,  2.4       , -0.13124829,  1.94591015],\n",
       "       [ 3.78418963, 10.8       ,  2.15547623,  2.30258509],\n",
       "       [ 3.80666249,  7.4       ,  1.80055402,  2.39789527],\n",
       "       [ 3.80666249,  7.8       ,  1.79042525,  2.19722458],\n",
       "       [ 3.80666249,  9.4       ,  1.93398215,  2.19722458],\n",
       "       [ 3.78418963,  6.6       ,  1.7344834 ,  2.19722458],\n",
       "       [ 3.78418963,  7.9       ,  1.99470031,  2.19722458],\n",
       "       [ 3.80666249,  8.9       ,  1.60100243,  2.19722458],\n",
       "       [ 3.80666249,  6.9       ,  1.68861871,  2.30258509],\n",
       "       [ 3.80666249,  7.6       ,  1.57856625,  2.19722458],\n",
       "       [ 3.78418963,  8.8       ,  1.85301135,  2.19722458],\n",
       "       [ 3.78418963,  6.7       ,  1.70638312,  2.07944154],\n",
       "       [ 3.63758616, 14.4       ,  2.06420099,  2.48490665],\n",
       "       [ 3.78418963,  7.4       ,  1.946053  ,  2.07944154],\n",
       "       [ 3.78418963,  6.1       ,  1.73888598,  2.19722458],\n",
       "       [ 3.78418963,  7.1       ,  1.82196531,  2.07944154],\n",
       "       [ 3.78418963,  9.3       ,  2.16136709,  2.19722458],\n",
       "       [ 3.66356165, 13.3       ,  2.06863334,  2.39789527],\n",
       "       [ 3.80666249,  6.6       ,  1.63139508,  2.19722458],\n",
       "       [ 3.80666249,  7.4       ,  1.64634827,  2.19722458],\n",
       "       [ 3.80666249,  7.4       ,  1.65326339,  2.07944154],\n",
       "       [ 3.78418963,  8.4       ,  1.89536845,  2.19722458],\n",
       "       [ 3.78418963,  6.5       ,  1.83210135,  1.94591015],\n",
       "       [ 3.80666249,  7.8       ,  1.83146084,  2.07944154],\n",
       "       [ 3.78418963,  6.6       ,  1.82985776,  1.94591015],\n",
       "       [ 3.78418963,  7.5       ,  1.7406416 ,  2.07944154],\n",
       "       [ 3.80666249,  6.1       ,  1.64557696,  2.19722458],\n",
       "       [ 3.71357207, 11.4       ,  2.03182569,  2.39789527],\n",
       "       [ 3.78418963,  8.8       ,  2.18019144,  2.19722458],\n",
       "       [ 3.78418963,  6.8       ,  1.71757457,  2.07944154],\n",
       "       [ 3.78418963,  6.4       ,  1.83194126,  1.94591015],\n",
       "       [ 3.80666249,  8.4       ,  1.8454582 ,  2.39789527],\n",
       "       [ 3.80666249,  7.2       ,  1.43413169,  2.07944154],\n",
       "       [ 3.78418963,  6.8       ,  1.72490716,  2.19722458],\n",
       "       [ 3.78418963,  4.2       ,  1.77155676,  1.94591015],\n",
       "       [ 3.78418963,  5.8       ,  1.69799809,  2.19722458],\n",
       "       [ 3.78418963,  4.9       ,  1.76951386,  1.94591015],\n",
       "       [ 3.80666249,  8.5       ,  1.85442123,  2.39789527],\n",
       "       [ 3.78418963, 10.7       ,  1.9645917 ,  2.39789527],\n",
       "       [ 3.80666249,  5.7       ,  1.50318811,  2.07944154],\n",
       "       [ 3.80666249,  8.3       ,  1.87333946,  2.39789527],\n",
       "       [ 3.80666249,  5.7       ,  1.51072194,  2.07944154],\n",
       "       [ 3.78418963, 10.1       ,  2.19265861,  2.30258509],\n",
       "       [ 3.78418963,  4.2       ,  1.81123525,  1.94591015],\n",
       "       [ 3.63758616, 11.1       ,  2.09666732,  2.39789527],\n",
       "       [ 3.80666249,  1.9       , -1.42295835,  1.38629436],\n",
       "       [ 3.73766962, 10.4       ,  1.99823149,  2.30258509],\n",
       "       [ 3.78418963,  7.6       ,  1.91471429,  2.07944154],\n",
       "       [ 3.78418963,  9.4       ,  1.95868534,  2.39789527],\n",
       "       [ 3.80666249,  8.2       ,  1.71972627,  2.07944154],\n",
       "       [ 3.80666249,  9.        ,  1.96164288,  2.19722458],\n",
       "       [ 3.78418963,  5.        ,  1.67765715,  2.07944154]])"
      ]
     },
     "execution_count": 246,
     "metadata": {},
     "output_type": "execute_result"
    }
   ],
   "source": [
    "X_Modeled"
   ]
  },
  {
   "cell_type": "code",
   "execution_count": 247,
   "metadata": {},
   "outputs": [],
   "source": [
    "# Fitting Optimized Multiple Linear Regression to the Training set\n",
    "from sklearn.linear_model import LinearRegression\n",
    "omr = LinearRegression().fit(X_train[:, 0:4], y_train)"
   ]
  },
  {
   "cell_type": "code",
   "execution_count": 248,
   "metadata": {},
   "outputs": [
    {
     "data": {
      "text/plain": [
       "(array([-83.62268193,   0.52170896,  21.84091709,  -4.86996451]),\n",
       " 291.436212016663)"
      ]
     },
     "execution_count": 248,
     "metadata": {},
     "output_type": "execute_result"
    }
   ],
   "source": [
    "# Getting parameters\n",
    "omr.coef_, omr.intercept_"
   ]
  },
  {
   "cell_type": "code",
   "execution_count": 249,
   "metadata": {},
   "outputs": [],
   "source": [
    "# Predicting the Test set results\n",
    "y_pred = omr.predict(X_test[:, 0:4])"
   ]
  },
  {
   "cell_type": "code",
   "execution_count": 250,
   "metadata": {},
   "outputs": [
    {
     "data": {
      "text/plain": [
       "(0.3479422499743793, 0.4369496099590431)"
      ]
     },
     "execution_count": 250,
     "metadata": {},
     "output_type": "execute_result"
    }
   ],
   "source": [
    "# Coefficient of determination R^2\n",
    "omr.score(X_train[:, 0:4], y_train), omr.score(X_test[:, 0:4], y_test)"
   ]
  },
  {
   "cell_type": "code",
   "execution_count": 251,
   "metadata": {},
   "outputs": [
    {
     "data": {
      "text/plain": [
       "(62.49427741881587, 54.64095902341732)"
      ]
     },
     "execution_count": 251,
     "metadata": {},
     "output_type": "execute_result"
    }
   ],
   "source": [
    "# Mean squared error\n",
    "from sklearn.metrics import mean_squared_error\n",
    "mean_squared_error(y_train, omr.predict(X_train[:, 0:4])), mean_squared_error(y_test, y_pred)"
   ]
  },
  {
   "cell_type": "code",
   "execution_count": 252,
   "metadata": {},
   "outputs": [
    {
     "data": {
      "image/png": "[encoded data removed]",
      "text/plain": [
       "<Figure size 432x288 with 1 Axes>"
      ]
     },
     "metadata": {
      "needs_background": "light"
     },
     "output_type": "display_data"
    }
   ],
   "source": [
    "# Visualising the Training set results\n",
    "plt.scatter(X_train[:,2], y_train, color = 'red')\n",
    "plt.plot(X_train[:,2], omr.predict(X_train[:, 0:4]), 'bo')\n",
    "plt.title('ActualPower vs Location 2 (Training set)')\n",
    "plt.xlabel('Location 2')\n",
    "plt.ylabel('ActualPower')\n",
    "plt.show()"
   ]
  },
  {
   "cell_type": "code",
   "execution_count": 253,
   "metadata": {},
   "outputs": [
    {
     "data": {
      "image/png": "[encoded data removed]",
      "text/plain": [
       "<Figure size 432x288 with 1 Axes>"
      ]
     },
     "metadata": {
      "needs_background": "light"
     },
     "output_type": "display_data"
    }
   ],
   "source": [
    "# Visualising the Test set results\n",
    "plt.scatter(X_test[:,2], y_test, color = 'red')\n",
    "plt.plot(X_test[:,2], omr.predict(X_test[:, 0:4]), 'bo')\n",
    "plt.title('ActualPower vs Location 2 (Test set)')\n",
    "plt.xlabel('Location 2')\n",
    "plt.ylabel('ActualPower')\n",
    "plt.show()"
   ]
  },
  {
   "cell_type": "markdown",
   "metadata": {},
   "source": [
    "## Regression Tree & Random Forest"
   ]
  },
  {
   "cell_type": "code",
   "execution_count": 254,
   "metadata": {},
   "outputs": [
    {
     "data": {
      "text/html": [
       "<div>\n",
       "<style scoped>\n",
       "    .dataframe tbody tr th:only-of-type {\n",
       "        vertical-align: middle;\n",
       "    }\n",
       "\n",
       "    .dataframe tbody tr th {\n",
       "        vertical-align: top;\n",
       "    }\n",
       "\n",
       "    .dataframe thead th {\n",
       "        text-align: right;\n",
       "    }\n",
       "</style>\n",
       "<table border=\"1\" class=\"dataframe\">\n",
       "  <thead>\n",
       "    <tr style=\"text-align: right;\">\n",
       "      <th></th>\n",
       "      <th>ActualPower</th>\n",
       "      <th>Max Capacity</th>\n",
       "      <th>Location 1</th>\n",
       "      <th>Location 2</th>\n",
       "      <th>Location 3</th>\n",
       "      <th>Location 4</th>\n",
       "    </tr>\n",
       "  </thead>\n",
       "  <tbody>\n",
       "    <tr>\n",
       "      <th>0</th>\n",
       "      <td>0.0</td>\n",
       "      <td>3.806662</td>\n",
       "      <td>3.9</td>\n",
       "      <td>1.098612</td>\n",
       "      <td>-1.439695</td>\n",
       "      <td>1.098612</td>\n",
       "    </tr>\n",
       "    <tr>\n",
       "      <th>1</th>\n",
       "      <td>0.0</td>\n",
       "      <td>3.806662</td>\n",
       "      <td>4.2</td>\n",
       "      <td>1.098612</td>\n",
       "      <td>-1.370421</td>\n",
       "      <td>1.098612</td>\n",
       "    </tr>\n",
       "    <tr>\n",
       "      <th>2</th>\n",
       "      <td>1.0</td>\n",
       "      <td>3.806662</td>\n",
       "      <td>4.0</td>\n",
       "      <td>1.386294</td>\n",
       "      <td>-1.390302</td>\n",
       "      <td>1.386294</td>\n",
       "    </tr>\n",
       "    <tr>\n",
       "      <th>3</th>\n",
       "      <td>2.0</td>\n",
       "      <td>3.806662</td>\n",
       "      <td>4.0</td>\n",
       "      <td>1.386294</td>\n",
       "      <td>-1.148854</td>\n",
       "      <td>1.386294</td>\n",
       "    </tr>\n",
       "    <tr>\n",
       "      <th>4</th>\n",
       "      <td>4.0</td>\n",
       "      <td>3.806662</td>\n",
       "      <td>3.3</td>\n",
       "      <td>1.386294</td>\n",
       "      <td>-1.244795</td>\n",
       "      <td>1.386294</td>\n",
       "    </tr>\n",
       "    <tr>\n",
       "      <th>...</th>\n",
       "      <td>...</td>\n",
       "      <td>...</td>\n",
       "      <td>...</td>\n",
       "      <td>...</td>\n",
       "      <td>...</td>\n",
       "      <td>...</td>\n",
       "    </tr>\n",
       "    <tr>\n",
       "      <th>289</th>\n",
       "      <td>1.0</td>\n",
       "      <td>3.784190</td>\n",
       "      <td>4.0</td>\n",
       "      <td>1.791759</td>\n",
       "      <td>1.746239</td>\n",
       "      <td>1.791759</td>\n",
       "    </tr>\n",
       "    <tr>\n",
       "      <th>290</th>\n",
       "      <td>1.0</td>\n",
       "      <td>3.784190</td>\n",
       "      <td>3.2</td>\n",
       "      <td>1.098612</td>\n",
       "      <td>0.952044</td>\n",
       "      <td>1.098612</td>\n",
       "    </tr>\n",
       "    <tr>\n",
       "      <th>291</th>\n",
       "      <td>2.0</td>\n",
       "      <td>3.784190</td>\n",
       "      <td>3.6</td>\n",
       "      <td>1.098612</td>\n",
       "      <td>0.903813</td>\n",
       "      <td>1.098612</td>\n",
       "    </tr>\n",
       "    <tr>\n",
       "      <th>292</th>\n",
       "      <td>1.0</td>\n",
       "      <td>3.784190</td>\n",
       "      <td>3.9</td>\n",
       "      <td>1.098612</td>\n",
       "      <td>0.870037</td>\n",
       "      <td>1.098612</td>\n",
       "    </tr>\n",
       "    <tr>\n",
       "      <th>293</th>\n",
       "      <td>3.0</td>\n",
       "      <td>3.784190</td>\n",
       "      <td>4.3</td>\n",
       "      <td>1.098612</td>\n",
       "      <td>0.837680</td>\n",
       "      <td>1.098612</td>\n",
       "    </tr>\n",
       "  </tbody>\n",
       "</table>\n",
       "<p>294 rows × 6 columns</p>\n",
       "</div>"
      ],
      "text/plain": [
       "     ActualPower  Max Capacity  Location 1  Location 2  Location 3  Location 4\n",
       "0            0.0      3.806662         3.9    1.098612   -1.439695    1.098612\n",
       "1            0.0      3.806662         4.2    1.098612   -1.370421    1.098612\n",
       "2            1.0      3.806662         4.0    1.386294   -1.390302    1.386294\n",
       "3            2.0      3.806662         4.0    1.386294   -1.148854    1.386294\n",
       "4            4.0      3.806662         3.3    1.386294   -1.244795    1.386294\n",
       "..           ...           ...         ...         ...         ...         ...\n",
       "289          1.0      3.784190         4.0    1.791759    1.746239    1.791759\n",
       "290          1.0      3.784190         3.2    1.098612    0.952044    1.098612\n",
       "291          2.0      3.784190         3.6    1.098612    0.903813    1.098612\n",
       "292          1.0      3.784190         3.9    1.098612    0.870037    1.098612\n",
       "293          3.0      3.784190         4.3    1.098612    0.837680    1.098612\n",
       "\n",
       "[294 rows x 6 columns]"
      ]
     },
     "execution_count": 254,
     "metadata": {},
     "output_type": "execute_result"
    }
   ],
   "source": [
    "df_log"
   ]
  },
  {
   "cell_type": "code",
   "execution_count": 255,
   "metadata": {},
   "outputs": [],
   "source": [
    "# Splitting the dataset into the Training set and Test set\n",
    "X = df_log.iloc[:, :-1].values\n",
    "y = df_log.iloc[:, 5].values\n",
    "from sklearn.model_selection import train_test_split\n",
    "X_train, X_test, y_train, y_test = train_test_split(X, y, test_size=0.2, random_state=0)"
   ]
  },
  {
   "cell_type": "code",
   "execution_count": 256,
   "metadata": {},
   "outputs": [],
   "source": [
    "# Fitting Tree to the Training set (Location 2)\n",
    "from sklearn.tree import DecisionTreeRegressor\n",
    "sdt = DecisionTreeRegressor(max_leaf_nodes = 10).fit(X_train[:, 2:3], y_train)"
   ]
  },
  {
   "cell_type": "code",
   "execution_count": 257,
   "metadata": {},
   "outputs": [],
   "source": [
    "# Predicting the Test set results\n",
    "y_pred = sdt.predict(X_test[:, 2:3])"
   ]
  },
  {
   "cell_type": "code",
   "execution_count": 258,
   "metadata": {},
   "outputs": [
    {
     "data": {
      "text/plain": [
       "(0.761048882782419, 0.7198186570370979)"
      ]
     },
     "execution_count": 258,
     "metadata": {},
     "output_type": "execute_result"
    }
   ],
   "source": [
    "# Coefficient of determination R^2 (Коеффициент детерминации значительно выше, чем в предыдущих моделях. Regression Tree уже есть смысл использовать)\n",
    "sdt.score(X_train[:, 2:3], y_train), sdt.score(X_test[:, 2:3], y_test)"
   ]
  },
  {
   "cell_type": "code",
   "execution_count": 259,
   "metadata": {},
   "outputs": [
    {
     "data": {
      "text/plain": [
       "(0.015329857642374097, 0.028014451710926282)"
      ]
     },
     "execution_count": 259,
     "metadata": {},
     "output_type": "execute_result"
    }
   ],
   "source": [
    "# Mean squared error \n",
    "from sklearn.metrics import mean_squared_error\n",
    "mean_squared_error(y_train, sdt.predict(X_train[:, 2:3])), mean_squared_error(y_test, y_pred)"
   ]
  },
  {
   "cell_type": "code",
   "execution_count": 260,
   "metadata": {},
   "outputs": [
    {
     "data": {
      "image/png": "[encoded data removed]",
      "text/plain": [
       "<Figure size 432x288 with 1 Axes>"
      ]
     },
     "metadata": {
      "needs_background": "light"
     },
     "output_type": "display_data"
    }
   ],
   "source": [
    "# Visualising the Training set results\n",
    "X_grid = np.arange(min(X[:, 2:3]), max(X[:, 2:3]), 0.01)\n",
    "X_grid = X_grid.reshape((len(X_grid), 1))\n",
    "plt.plot(X_grid, sdt.predict(X_grid), color = 'blue')\n",
    "plt.scatter(X_train[:,2], y_train, color = 'red')\n",
    "plt.plot(X_train[:,2], sdt.predict(X_train[:, 2:3]), 'bo')\n",
    "plt.title('ActualPower vs Location 2 (Training set)')\n",
    "plt.xlabel('Location 2')\n",
    "plt.ylabel('ActualPower')\n",
    "plt.show()"
   ]
  },
  {
   "cell_type": "code",
   "execution_count": 261,
   "metadata": {},
   "outputs": [
    {
     "data": {
      "image/png": "[encoded data removed]",
      "text/plain": [
       "<Figure size 432x288 with 1 Axes>"
      ]
     },
     "metadata": {
      "needs_background": "light"
     },
     "output_type": "display_data"
    }
   ],
   "source": [
    "# Visualising the Test set results\n",
    "X_grid = np.arange(min(X[:, 2:3]), max(X[:, 2:3]), 0.01)\n",
    "X_grid = X_grid.reshape((len(X_grid), 1))\n",
    "plt.plot(X_grid, sdt.predict(X_grid), color = 'blue')\n",
    "plt.scatter(X_test[:,2], y_test, color = 'red')\n",
    "plt.plot(X_test[:,2], sdt.predict(X_test[:, 2:3]), 'bo')\n",
    "plt.title('ActualPower vs Location 2 (Test set)')\n",
    "plt.xlabel('Location 2')\n",
    "plt.ylabel('ActualPower')\n",
    "plt.show()"
   ]
  },
  {
   "cell_type": "code",
   "execution_count": 262,
   "metadata": {},
   "outputs": [],
   "source": [
    "# Fitting Tree to the Training set \n",
    "from sklearn.tree import DecisionTreeRegressor\n",
    "dt = DecisionTreeRegressor().fit(X_train, y_train)"
   ]
  },
  {
   "cell_type": "code",
   "execution_count": 263,
   "metadata": {},
   "outputs": [],
   "source": [
    "# Predicting the Test set results\n",
    "y_pred = dt.predict(X_test)"
   ]
  },
  {
   "cell_type": "code",
   "execution_count": 264,
   "metadata": {},
   "outputs": [
    {
     "data": {
      "text/plain": [
       "(1.0, 0.9480800376972474)"
      ]
     },
     "execution_count": 264,
     "metadata": {},
     "output_type": "execute_result"
    }
   ],
   "source": [
    "# Coefficient of determination R^2\n",
    "dt.score(X_train, y_train), dt.score(X_test, y_test)"
   ]
  },
  {
   "cell_type": "code",
   "execution_count": 265,
   "metadata": {},
   "outputs": [
    {
     "data": {
      "text/plain": [
       "(7.48998253095482e-32, 0.005191313816195695)"
      ]
     },
     "execution_count": 265,
     "metadata": {},
     "output_type": "execute_result"
    }
   ],
   "source": [
    "# Mean squared error\n",
    "from sklearn.metrics import mean_squared_error\n",
    "mean_squared_error(y_train, dt.predict(X_train)), mean_squared_error(y_test, y_pred)"
   ]
  },
  {
   "cell_type": "code",
   "execution_count": 266,
   "metadata": {},
   "outputs": [
    {
     "data": {
      "image/png": "[encoded data removed]",
      "text/plain": [
       "<Figure size 432x288 with 1 Axes>"
      ]
     },
     "metadata": {
      "needs_background": "light"
     },
     "output_type": "display_data"
    }
   ],
   "source": [
    "# Visualising the Training set results\n",
    "plt.scatter(X_train[:,2], y_train, color = 'red')\n",
    "plt.plot(X_train[:,2], dt.predict(X_train), 'bo')\n",
    "plt.title('ActualPower vs Location 2 (Training set)')\n",
    "plt.xlabel('Location 2')\n",
    "plt.ylabel('ActualPower')\n",
    "plt.show()"
   ]
  },
  {
   "cell_type": "code",
   "execution_count": 267,
   "metadata": {},
   "outputs": [
    {
     "data": {
      "image/png": "[encoded data removed]",
      "text/plain": [
       "<Figure size 432x288 with 1 Axes>"
      ]
     },
     "metadata": {
      "needs_background": "light"
     },
     "output_type": "display_data"
    }
   ],
   "source": [
    "# Visualising the Test set results\n",
    "plt.scatter(X_test[:,2], y_test, color = 'red')\n",
    "plt.plot(X_test[:,2], dt.predict(X_test), 'bo')\n",
    "plt.title('ActualPower vs Location 2 (Test set)')\n",
    "plt.xlabel('Location 2')\n",
    "plt.ylabel('ActualPower')\n",
    "plt.show()"
   ]
  },
  {
   "cell_type": "code",
   "execution_count": 268,
   "metadata": {},
   "outputs": [],
   "source": [
    "# Fitting Random Forest to the Training set\n",
    "from sklearn.ensemble import RandomForestRegressor\n",
    "rf = RandomForestRegressor(n_estimators = 10, random_state = 0).fit(X_train, y_train)"
   ]
  },
  {
   "cell_type": "code",
   "execution_count": 269,
   "metadata": {},
   "outputs": [],
   "source": [
    "# Predicting the Test set results\n",
    "y_pred = rf.predict(X_test)"
   ]
  },
  {
   "cell_type": "code",
   "execution_count": 270,
   "metadata": {},
   "outputs": [
    {
     "data": {
      "text/plain": [
       "(0.9872288937522067, 0.9312037957913394)"
      ]
     },
     "execution_count": 270,
     "metadata": {},
     "output_type": "execute_result"
    }
   ],
   "source": [
    "# Coefficient of determination R^2\n",
    "rf.score(X_train, y_train), rf.score(X_test, y_test)"
   ]
  },
  {
   "cell_type": "code",
   "execution_count": 271,
   "metadata": {},
   "outputs": [
    {
     "data": {
      "text/plain": [
       "(0.0008193275804441426, 0.006878716192582933)"
      ]
     },
     "execution_count": 271,
     "metadata": {},
     "output_type": "execute_result"
    }
   ],
   "source": [
    "# Mean squared error\n",
    "from sklearn.metrics import mean_squared_error\n",
    "mean_squared_error(y_train, rf.predict(X_train)), mean_squared_error(y_test, y_pred)"
   ]
  },
  {
   "cell_type": "code",
   "execution_count": 272,
   "metadata": {},
   "outputs": [
    {
     "data": {
      "image/png": "[encoded data removed]",
      "text/plain": [
       "<Figure size 432x288 with 1 Axes>"
      ]
     },
     "metadata": {
      "needs_background": "light"
     },
     "output_type": "display_data"
    }
   ],
   "source": [
    "# Visualising the Training set results\n",
    "plt.scatter(X_train[:,2], y_train, color = 'red')\n",
    "plt.plot(X_train[:,2], rf.predict(X_train), 'bo')\n",
    "plt.title('ActualPower vs Location 2 (Training set)')\n",
    "plt.xlabel('Location 2')\n",
    "plt.ylabel('ActualPower')\n",
    "plt.show()"
   ]
  },
  {
   "cell_type": "code",
   "execution_count": 273,
   "metadata": {},
   "outputs": [
    {
     "data": {
      "image/png": "[encoded data removed]",
      "text/plain": [
       "<Figure size 432x288 with 1 Axes>"
      ]
     },
     "metadata": {
      "needs_background": "light"
     },
     "output_type": "display_data"
    }
   ],
   "source": [
    "# Visualising the Test set results\n",
    "plt.scatter(X_test[:,2], y_test, color = 'red')\n",
    "plt.plot(X_test[:,2], rf.predict(X_test), 'bo')\n",
    "plt.title('ActualPower vs Location 2 (Test set)')\n",
    "plt.xlabel('Location 2')\n",
    "plt.ylabel('ActualPower')\n",
    "plt.show()"
   ]
  },
  {
   "cell_type": "markdown",
   "metadata": {},
   "source": [
    "## Regression Neural Network"
   ]
  },
  {
   "cell_type": "code",
   "execution_count": 274,
   "metadata": {},
   "outputs": [
    {
     "data": {
      "text/html": [
       "<div>\n",
       "<style scoped>\n",
       "    .dataframe tbody tr th:only-of-type {\n",
       "        vertical-align: middle;\n",
       "    }\n",
       "\n",
       "    .dataframe tbody tr th {\n",
       "        vertical-align: top;\n",
       "    }\n",
       "\n",
       "    .dataframe thead th {\n",
       "        text-align: right;\n",
       "    }\n",
       "</style>\n",
       "<table border=\"1\" class=\"dataframe\">\n",
       "  <thead>\n",
       "    <tr style=\"text-align: right;\">\n",
       "      <th></th>\n",
       "      <th>ActualPower</th>\n",
       "      <th>Max Capacity</th>\n",
       "      <th>Location 1</th>\n",
       "      <th>Location 2</th>\n",
       "      <th>Location 3</th>\n",
       "      <th>Location 4</th>\n",
       "    </tr>\n",
       "  </thead>\n",
       "  <tbody>\n",
       "    <tr>\n",
       "      <th>0</th>\n",
       "      <td>0.0</td>\n",
       "      <td>3.806662</td>\n",
       "      <td>3.9</td>\n",
       "      <td>1.098612</td>\n",
       "      <td>-1.439695</td>\n",
       "      <td>1.098612</td>\n",
       "    </tr>\n",
       "    <tr>\n",
       "      <th>1</th>\n",
       "      <td>0.0</td>\n",
       "      <td>3.806662</td>\n",
       "      <td>4.2</td>\n",
       "      <td>1.098612</td>\n",
       "      <td>-1.370421</td>\n",
       "      <td>1.098612</td>\n",
       "    </tr>\n",
       "    <tr>\n",
       "      <th>2</th>\n",
       "      <td>1.0</td>\n",
       "      <td>3.806662</td>\n",
       "      <td>4.0</td>\n",
       "      <td>1.386294</td>\n",
       "      <td>-1.390302</td>\n",
       "      <td>1.386294</td>\n",
       "    </tr>\n",
       "    <tr>\n",
       "      <th>3</th>\n",
       "      <td>2.0</td>\n",
       "      <td>3.806662</td>\n",
       "      <td>4.0</td>\n",
       "      <td>1.386294</td>\n",
       "      <td>-1.148854</td>\n",
       "      <td>1.386294</td>\n",
       "    </tr>\n",
       "    <tr>\n",
       "      <th>4</th>\n",
       "      <td>4.0</td>\n",
       "      <td>3.806662</td>\n",
       "      <td>3.3</td>\n",
       "      <td>1.386294</td>\n",
       "      <td>-1.244795</td>\n",
       "      <td>1.386294</td>\n",
       "    </tr>\n",
       "    <tr>\n",
       "      <th>...</th>\n",
       "      <td>...</td>\n",
       "      <td>...</td>\n",
       "      <td>...</td>\n",
       "      <td>...</td>\n",
       "      <td>...</td>\n",
       "      <td>...</td>\n",
       "    </tr>\n",
       "    <tr>\n",
       "      <th>289</th>\n",
       "      <td>1.0</td>\n",
       "      <td>3.784190</td>\n",
       "      <td>4.0</td>\n",
       "      <td>1.791759</td>\n",
       "      <td>1.746239</td>\n",
       "      <td>1.791759</td>\n",
       "    </tr>\n",
       "    <tr>\n",
       "      <th>290</th>\n",
       "      <td>1.0</td>\n",
       "      <td>3.784190</td>\n",
       "      <td>3.2</td>\n",
       "      <td>1.098612</td>\n",
       "      <td>0.952044</td>\n",
       "      <td>1.098612</td>\n",
       "    </tr>\n",
       "    <tr>\n",
       "      <th>291</th>\n",
       "      <td>2.0</td>\n",
       "      <td>3.784190</td>\n",
       "      <td>3.6</td>\n",
       "      <td>1.098612</td>\n",
       "      <td>0.903813</td>\n",
       "      <td>1.098612</td>\n",
       "    </tr>\n",
       "    <tr>\n",
       "      <th>292</th>\n",
       "      <td>1.0</td>\n",
       "      <td>3.784190</td>\n",
       "      <td>3.9</td>\n",
       "      <td>1.098612</td>\n",
       "      <td>0.870037</td>\n",
       "      <td>1.098612</td>\n",
       "    </tr>\n",
       "    <tr>\n",
       "      <th>293</th>\n",
       "      <td>3.0</td>\n",
       "      <td>3.784190</td>\n",
       "      <td>4.3</td>\n",
       "      <td>1.098612</td>\n",
       "      <td>0.837680</td>\n",
       "      <td>1.098612</td>\n",
       "    </tr>\n",
       "  </tbody>\n",
       "</table>\n",
       "<p>294 rows × 6 columns</p>\n",
       "</div>"
      ],
      "text/plain": [
       "     ActualPower  Max Capacity  Location 1  Location 2  Location 3  Location 4\n",
       "0            0.0      3.806662         3.9    1.098612   -1.439695    1.098612\n",
       "1            0.0      3.806662         4.2    1.098612   -1.370421    1.098612\n",
       "2            1.0      3.806662         4.0    1.386294   -1.390302    1.386294\n",
       "3            2.0      3.806662         4.0    1.386294   -1.148854    1.386294\n",
       "4            4.0      3.806662         3.3    1.386294   -1.244795    1.386294\n",
       "..           ...           ...         ...         ...         ...         ...\n",
       "289          1.0      3.784190         4.0    1.791759    1.746239    1.791759\n",
       "290          1.0      3.784190         3.2    1.098612    0.952044    1.098612\n",
       "291          2.0      3.784190         3.6    1.098612    0.903813    1.098612\n",
       "292          1.0      3.784190         3.9    1.098612    0.870037    1.098612\n",
       "293          3.0      3.784190         4.3    1.098612    0.837680    1.098612\n",
       "\n",
       "[294 rows x 6 columns]"
      ]
     },
     "execution_count": 274,
     "metadata": {},
     "output_type": "execute_result"
    }
   ],
   "source": [
    "df_log"
   ]
  },
  {
   "cell_type": "code",
   "execution_count": 275,
   "metadata": {},
   "outputs": [],
   "source": [
    "# Feature Scaling\n",
    "from sklearn.preprocessing import StandardScaler\n",
    "sc = StandardScaler()\n",
    "dfsc = sc.fit_transform(df)\n",
    "df_log['ActualPower'] = dfsc[:,0]\n",
    "df_log['Max Capacity'] = dfsc[:,1]\n",
    "df_log['Location 1'] = dfsc[:,2]\n",
    "df_log['Location 2'] = dfsc[:,3]\n",
    "df_log['Location 3'] = dfsc[:,4]\n",
    "df_log['Location 4'] = dfsc[:,5]"
   ]
  },
  {
   "cell_type": "code",
   "execution_count": 276,
   "metadata": {},
   "outputs": [
    {
     "data": {
      "text/html": [
       "<div>\n",
       "<style scoped>\n",
       "    .dataframe tbody tr th:only-of-type {\n",
       "        vertical-align: middle;\n",
       "    }\n",
       "\n",
       "    .dataframe tbody tr th {\n",
       "        vertical-align: top;\n",
       "    }\n",
       "\n",
       "    .dataframe thead th {\n",
       "        text-align: right;\n",
       "    }\n",
       "</style>\n",
       "<table border=\"1\" class=\"dataframe\">\n",
       "  <thead>\n",
       "    <tr style=\"text-align: right;\">\n",
       "      <th></th>\n",
       "      <th>ActualPower</th>\n",
       "      <th>Max Capacity</th>\n",
       "      <th>Location 1</th>\n",
       "      <th>Location 2</th>\n",
       "      <th>Location 3</th>\n",
       "      <th>Location 4</th>\n",
       "    </tr>\n",
       "  </thead>\n",
       "  <tbody>\n",
       "    <tr>\n",
       "      <th>ActualPower</th>\n",
       "      <td>1.000000</td>\n",
       "      <td>-0.407037</td>\n",
       "      <td>0.379332</td>\n",
       "      <td>0.425873</td>\n",
       "      <td>0.176696</td>\n",
       "      <td>0.432648</td>\n",
       "    </tr>\n",
       "    <tr>\n",
       "      <th>Max Capacity</th>\n",
       "      <td>-0.407037</td>\n",
       "      <td>1.000000</td>\n",
       "      <td>-0.537528</td>\n",
       "      <td>-0.232178</td>\n",
       "      <td>-0.426030</td>\n",
       "      <td>-0.381246</td>\n",
       "    </tr>\n",
       "    <tr>\n",
       "      <th>Location 1</th>\n",
       "      <td>0.379332</td>\n",
       "      <td>-0.537528</td>\n",
       "      <td>1.000000</td>\n",
       "      <td>0.652382</td>\n",
       "      <td>0.796576</td>\n",
       "      <td>0.777234</td>\n",
       "    </tr>\n",
       "    <tr>\n",
       "      <th>Location 2</th>\n",
       "      <td>0.425873</td>\n",
       "      <td>-0.232178</td>\n",
       "      <td>0.652382</td>\n",
       "      <td>1.000000</td>\n",
       "      <td>0.587584</td>\n",
       "      <td>0.922757</td>\n",
       "    </tr>\n",
       "    <tr>\n",
       "      <th>Location 3</th>\n",
       "      <td>0.176696</td>\n",
       "      <td>-0.426030</td>\n",
       "      <td>0.796576</td>\n",
       "      <td>0.587584</td>\n",
       "      <td>1.000000</td>\n",
       "      <td>0.762429</td>\n",
       "    </tr>\n",
       "    <tr>\n",
       "      <th>Location 4</th>\n",
       "      <td>0.432648</td>\n",
       "      <td>-0.381246</td>\n",
       "      <td>0.777234</td>\n",
       "      <td>0.922757</td>\n",
       "      <td>0.762429</td>\n",
       "      <td>1.000000</td>\n",
       "    </tr>\n",
       "  </tbody>\n",
       "</table>\n",
       "</div>"
      ],
      "text/plain": [
       "              ActualPower  Max Capacity  Location 1  Location 2  Location 3  \\\n",
       "ActualPower      1.000000     -0.407037    0.379332    0.425873    0.176696   \n",
       "Max Capacity    -0.407037      1.000000   -0.537528   -0.232178   -0.426030   \n",
       "Location 1       0.379332     -0.537528    1.000000    0.652382    0.796576   \n",
       "Location 2       0.425873     -0.232178    0.652382    1.000000    0.587584   \n",
       "Location 3       0.176696     -0.426030    0.796576    0.587584    1.000000   \n",
       "Location 4       0.432648     -0.381246    0.777234    0.922757    0.762429   \n",
       "\n",
       "              Location 4  \n",
       "ActualPower     0.432648  \n",
       "Max Capacity   -0.381246  \n",
       "Location 1      0.777234  \n",
       "Location 2      0.922757  \n",
       "Location 3      0.762429  \n",
       "Location 4      1.000000  "
      ]
     },
     "execution_count": 276,
     "metadata": {},
     "output_type": "execute_result"
    }
   ],
   "source": [
    "# Cheking correlations\n",
    "df_log.corr()"
   ]
  },
  {
   "cell_type": "code",
   "execution_count": 277,
   "metadata": {},
   "outputs": [],
   "source": [
    "# Splitting the dataset into the Training set and Test set\n",
    "X = df_log.iloc[:, 1:6].values\n",
    "y = df_log.iloc[:, 0].values\n",
    "from sklearn.model_selection import train_test_split\n",
    "X_train, X_test, y_train, y_test = train_test_split(X, y, test_size=0.2, random_state=0)"
   ]
  },
  {
   "cell_type": "code",
   "execution_count": 278,
   "metadata": {},
   "outputs": [],
   "source": [
    "# Install Tensorflow\n",
    "# Install Keras\n",
    "# Importing the Keras libraries and packages\n",
    "# !pip3 install keras\n",
    "# !pip install tensorflow\n",
    "import keras\n",
    "from keras.models import Sequential\n",
    "from keras.layers import Dense"
   ]
  },
  {
   "cell_type": "code",
   "execution_count": 279,
   "metadata": {},
   "outputs": [],
   "source": [
    "# Initialising the ANN\n",
    "rnn = Sequential()\n",
    "\n",
    "# Adding the input layer and the first hidden layer\n",
    "rnn.add(Dense(units = 6, activation = 'tanh', input_dim = 5))\n",
    "\n",
    "# Adding the second hidden layer\n",
    "rnn.add(Dense(units = 6, activation = 'tanh'))\n",
    "\n",
    "# Adding the output layer\n",
    "rnn.add(Dense(units = 1, activation = 'linear'))\n",
    "\n",
    "# Compiling the ANN\n",
    "rnn.compile(optimizer='adam', loss='mean_squared_error', metrics = ['accuracy'])"
   ]
  },
  {
   "cell_type": "code",
   "execution_count": 280,
   "metadata": {},
   "outputs": [
    {
     "name": "stdout",
     "output_type": "stream",
     "text": [
      "Epoch 1/100\n",
      "24/24 [==============================] - 0s 1ms/step - loss: 1.1181 - accuracy: 0.0000e+00\n",
      "Epoch 2/100\n",
      "24/24 [==============================] - 0s 956us/step - loss: 1.0320 - accuracy: 0.0000e+00\n",
      "Epoch 3/100\n",
      "24/24 [==============================] - 0s 1ms/step - loss: 0.9558 - accuracy: 0.0000e+00\n",
      "Epoch 4/100\n",
      "24/24 [==============================] - 0s 1ms/step - loss: 0.9079 - accuracy: 0.0000e+00\n",
      "Epoch 5/100\n",
      "24/24 [==============================] - 0s 1ms/step - loss: 0.8636 - accuracy: 0.0000e+00\n",
      "Epoch 6/100\n",
      "24/24 [==============================] - 0s 997us/step - loss: 0.8325 - accuracy: 0.0000e+00\n",
      "Epoch 7/100\n",
      "24/24 [==============================] - 0s 1ms/step - loss: 0.8071 - accuracy: 0.0000e+00\n",
      "Epoch 8/100\n",
      "24/24 [==============================] - 0s 1ms/step - loss: 0.7853 - accuracy: 0.0000e+00\n",
      "Epoch 9/100\n",
      "24/24 [==============================] - 0s 997us/step - loss: 0.7674 - accuracy: 0.0000e+00\n",
      "Epoch 10/100\n",
      "24/24 [==============================] - 0s 2ms/step - loss: 0.7496 - accuracy: 0.0000e+00\n",
      "Epoch 11/100\n",
      "24/24 [==============================] - 0s 1ms/step - loss: 0.7349 - accuracy: 0.0000e+00\n",
      "Epoch 12/100\n",
      "24/24 [==============================] - 0s 1ms/step - loss: 0.7197 - accuracy: 0.0000e+00\n",
      "Epoch 13/100\n",
      "24/24 [==============================] - 0s 1ms/step - loss: 0.7048 - accuracy: 0.0000e+00\n",
      "Epoch 14/100\n",
      "24/24 [==============================] - 0s 1ms/step - loss: 0.6922 - accuracy: 0.0000e+00\n",
      "Epoch 15/100\n",
      "24/24 [==============================] - 0s 1ms/step - loss: 0.6799 - accuracy: 0.0000e+00\n",
      "Epoch 16/100\n",
      "24/24 [==============================] - 0s 1ms/step - loss: 0.6692 - accuracy: 0.0000e+00\n",
      "Epoch 17/100\n",
      "24/24 [==============================] - 0s 997us/step - loss: 0.6555 - accuracy: 0.0000e+00\n",
      "Epoch 18/100\n",
      "24/24 [==============================] - 0s 1ms/step - loss: 0.6445 - accuracy: 0.0000e+00\n",
      "Epoch 19/100\n",
      "24/24 [==============================] - 0s 997us/step - loss: 0.6354 - accuracy: 0.0000e+00\n",
      "Epoch 20/100\n",
      "24/24 [==============================] - 0s 956us/step - loss: 0.6257 - accuracy: 0.0000e+00\n",
      "Epoch 21/100\n",
      "24/24 [==============================] - 0s 1ms/step - loss: 0.6176 - accuracy: 0.0000e+00\n",
      "Epoch 22/100\n",
      "24/24 [==============================] - 0s 1ms/step - loss: 0.6094 - accuracy: 0.0000e+00\n",
      "Epoch 23/100\n",
      "24/24 [==============================] - 0s 1ms/step - loss: 0.5988 - accuracy: 0.0000e+00\n",
      "Epoch 24/100\n",
      "24/24 [==============================] - 0s 956us/step - loss: 0.5904 - accuracy: 0.0000e+00\n",
      "Epoch 25/100\n",
      "24/24 [==============================] - 0s 997us/step - loss: 0.5840 - accuracy: 0.0000e+00\n",
      "Epoch 26/100\n",
      "24/24 [==============================] - 0s 1ms/step - loss: 0.5751 - accuracy: 0.0000e+00\n",
      "Epoch 27/100\n",
      "24/24 [==============================] - 0s 1ms/step - loss: 0.5685 - accuracy: 0.0000e+00\n",
      "Epoch 28/100\n",
      "24/24 [==============================] - 0s 2ms/step - loss: 0.5606 - accuracy: 0.0000e+00\n",
      "Epoch 29/100\n",
      "24/24 [==============================] - 0s 956us/step - loss: 0.5564 - accuracy: 0.0000e+00\n",
      "Epoch 30/100\n",
      "24/24 [==============================] - 0s 997us/step - loss: 0.5520 - accuracy: 0.0000e+00\n",
      "Epoch 31/100\n",
      "24/24 [==============================] - 0s 1ms/step - loss: 0.5429 - accuracy: 0.0000e+00\n",
      "Epoch 32/100\n",
      "24/24 [==============================] - 0s 997us/step - loss: 0.5367 - accuracy: 0.0000e+00\n",
      "Epoch 33/100\n",
      "24/24 [==============================] - 0s 1ms/step - loss: 0.5305 - accuracy: 0.0000e+00\n",
      "Epoch 34/100\n",
      "24/24 [==============================] - 0s 1ms/step - loss: 0.5288 - accuracy: 0.0000e+00\n",
      "Epoch 35/100\n",
      "24/24 [==============================] - 0s 997us/step - loss: 0.5212 - accuracy: 0.0000e+00\n",
      "Epoch 36/100\n",
      "24/24 [==============================] - 0s 1ms/step - loss: 0.5172 - accuracy: 0.0000e+00\n",
      "Epoch 37/100\n",
      "24/24 [==============================] - 0s 1ms/step - loss: 0.5107 - accuracy: 0.0000e+00\n",
      "Epoch 38/100\n",
      "24/24 [==============================] - 0s 1ms/step - loss: 0.5047 - accuracy: 0.0000e+00\n",
      "Epoch 39/100\n",
      "24/24 [==============================] - 0s 1ms/step - loss: 0.5023 - accuracy: 0.0000e+00\n",
      "Epoch 40/100\n",
      "24/24 [==============================] - 0s 1ms/step - loss: 0.4960 - accuracy: 0.0000e+00\n",
      "Epoch 41/100\n",
      "24/24 [==============================] - 0s 1ms/step - loss: 0.4925 - accuracy: 0.0000e+00\n",
      "Epoch 42/100\n",
      "24/24 [==============================] - 0s 1ms/step - loss: 0.4862 - accuracy: 0.0000e+00\n",
      "Epoch 43/100\n",
      "24/24 [==============================] - 0s 1ms/step - loss: 0.4822 - accuracy: 0.0000e+00\n",
      "Epoch 44/100\n",
      "24/24 [==============================] - 0s 1ms/step - loss: 0.4770 - accuracy: 0.0000e+00\n",
      "Epoch 45/100\n",
      "24/24 [==============================] - 0s 1ms/step - loss: 0.4732 - accuracy: 0.0000e+00\n",
      "Epoch 46/100\n",
      "24/24 [==============================] - 0s 1ms/step - loss: 0.4697 - accuracy: 0.0000e+00\n",
      "Epoch 47/100\n",
      "24/24 [==============================] - 0s 1ms/step - loss: 0.4668 - accuracy: 0.0000e+00\n",
      "Epoch 48/100\n",
      "24/24 [==============================] - 0s 1ms/step - loss: 0.4627 - accuracy: 0.0000e+00\n",
      "Epoch 49/100\n",
      "24/24 [==============================] - 0s 1ms/step - loss: 0.4598 - accuracy: 0.0000e+00\n",
      "Epoch 50/100\n",
      "24/24 [==============================] - 0s 1ms/step - loss: 0.4554 - accuracy: 0.0000e+00\n",
      "Epoch 51/100\n",
      "24/24 [==============================] - 0s 1ms/step - loss: 0.4533 - accuracy: 0.0000e+00\n",
      "Epoch 52/100\n",
      "24/24 [==============================] - 0s 1ms/step - loss: 0.4493 - accuracy: 0.0000e+00\n",
      "Epoch 53/100\n",
      "24/24 [==============================] - 0s 1ms/step - loss: 0.4450 - accuracy: 0.0000e+00\n",
      "Epoch 54/100\n",
      "24/24 [==============================] - 0s 997us/step - loss: 0.4438 - accuracy: 0.0000e+00\n",
      "Epoch 55/100\n",
      "24/24 [==============================] - 0s 997us/step - loss: 0.4385 - accuracy: 0.0000e+00\n",
      "Epoch 56/100\n",
      "24/24 [==============================] - 0s 997us/step - loss: 0.4363 - accuracy: 0.0000e+00\n",
      "Epoch 57/100\n",
      "24/24 [==============================] - 0s 1ms/step - loss: 0.4339 - accuracy: 0.0000e+00\n",
      "Epoch 58/100\n",
      "24/24 [==============================] - 0s 997us/step - loss: 0.4335 - accuracy: 0.0000e+00\n",
      "Epoch 59/100\n",
      "24/24 [==============================] - 0s 956us/step - loss: 0.4307 - accuracy: 0.0000e+00\n",
      "Epoch 60/100\n",
      "24/24 [==============================] - 0s 1ms/step - loss: 0.4259 - accuracy: 0.0000e+00\n",
      "Epoch 61/100\n",
      "24/24 [==============================] - 0s 1ms/step - loss: 0.4260 - accuracy: 0.0000e+00\n",
      "Epoch 62/100\n",
      "24/24 [==============================] - 0s 1ms/step - loss: 0.4217 - accuracy: 0.0000e+00\n",
      "Epoch 63/100\n",
      "24/24 [==============================] - 0s 1ms/step - loss: 0.4212 - accuracy: 0.0000e+00\n",
      "Epoch 64/100\n",
      "24/24 [==============================] - 0s 956us/step - loss: 0.4189 - accuracy: 0.0000e+00\n",
      "Epoch 65/100\n",
      "24/24 [==============================] - 0s 1ms/step - loss: 0.4206 - accuracy: 0.0000e+00\n",
      "Epoch 66/100\n",
      "24/24 [==============================] - 0s 1ms/step - loss: 0.4160 - accuracy: 0.0000e+00\n",
      "Epoch 67/100\n",
      "24/24 [==============================] - 0s 1ms/step - loss: 0.4122 - accuracy: 0.0000e+00\n",
      "Epoch 68/100\n",
      "24/24 [==============================] - 0s 997us/step - loss: 0.4122 - accuracy: 0.0000e+00\n",
      "Epoch 69/100\n",
      "24/24 [==============================] - 0s 1ms/step - loss: 0.4092 - accuracy: 0.0000e+00\n",
      "Epoch 70/100\n",
      "24/24 [==============================] - 0s 1ms/step - loss: 0.4070 - accuracy: 0.0000e+00\n",
      "Epoch 71/100\n",
      "24/24 [==============================] - 0s 997us/step - loss: 0.4058 - accuracy: 0.0000e+00\n",
      "Epoch 72/100\n",
      "24/24 [==============================] - 0s 1ms/step - loss: 0.4043 - accuracy: 0.0000e+00\n",
      "Epoch 73/100\n",
      "24/24 [==============================] - 0s 1ms/step - loss: 0.4046 - accuracy: 0.0000e+00\n",
      "Epoch 74/100\n",
      "24/24 [==============================] - 0s 1ms/step - loss: 0.4021 - accuracy: 0.0000e+00\n",
      "Epoch 75/100\n",
      "24/24 [==============================] - 0s 1ms/step - loss: 0.4004 - accuracy: 0.0000e+00\n",
      "Epoch 76/100\n",
      "24/24 [==============================] - 0s 1ms/step - loss: 0.4003 - accuracy: 0.0000e+00\n",
      "Epoch 77/100\n",
      "24/24 [==============================] - 0s 1ms/step - loss: 0.3997 - accuracy: 0.0000e+00\n",
      "Epoch 78/100\n",
      "24/24 [==============================] - 0s 1ms/step - loss: 0.3984 - accuracy: 0.0000e+00\n",
      "Epoch 79/100\n",
      "24/24 [==============================] - 0s 1ms/step - loss: 0.3964 - accuracy: 0.0000e+00\n",
      "Epoch 80/100\n",
      "24/24 [==============================] - 0s 997us/step - loss: 0.3953 - accuracy: 0.0000e+00\n",
      "Epoch 81/100\n",
      "24/24 [==============================] - 0s 1ms/step - loss: 0.3937 - accuracy: 0.0000e+00\n",
      "Epoch 82/100\n",
      "24/24 [==============================] - 0s 1ms/step - loss: 0.3927 - accuracy: 0.0000e+00\n",
      "Epoch 83/100\n",
      "24/24 [==============================] - 0s 1ms/step - loss: 0.3924 - accuracy: 0.0000e+00\n",
      "Epoch 84/100\n",
      "24/24 [==============================] - 0s 1ms/step - loss: 0.3920 - accuracy: 0.0000e+00\n",
      "Epoch 85/100\n",
      "24/24 [==============================] - 0s 1ms/step - loss: 0.3903 - accuracy: 0.0000e+00\n",
      "Epoch 86/100\n",
      "24/24 [==============================] - 0s 1ms/step - loss: 0.3886 - accuracy: 0.0000e+00\n",
      "Epoch 87/100\n",
      "24/24 [==============================] - 0s 1ms/step - loss: 0.3891 - accuracy: 0.0000e+00\n",
      "Epoch 88/100\n",
      "24/24 [==============================] - 0s 1ms/step - loss: 0.3876 - accuracy: 0.0000e+00\n",
      "Epoch 89/100\n",
      "24/24 [==============================] - 0s 1ms/step - loss: 0.3879 - accuracy: 0.0000e+00\n",
      "Epoch 90/100\n",
      "24/24 [==============================] - 0s 1ms/step - loss: 0.3866 - accuracy: 0.0000e+00\n",
      "Epoch 91/100\n",
      "24/24 [==============================] - 0s 1ms/step - loss: 0.3867 - accuracy: 0.0000e+00\n",
      "Epoch 92/100\n",
      "24/24 [==============================] - 0s 1ms/step - loss: 0.3858 - accuracy: 0.0000e+00\n",
      "Epoch 93/100\n",
      "24/24 [==============================] - 0s 1ms/step - loss: 0.3837 - accuracy: 0.0000e+00\n",
      "Epoch 94/100\n",
      "24/24 [==============================] - 0s 1ms/step - loss: 0.3832 - accuracy: 0.0000e+00\n",
      "Epoch 95/100\n",
      "24/24 [==============================] - 0s 1ms/step - loss: 0.3826 - accuracy: 0.0000e+00\n",
      "Epoch 96/100\n",
      "24/24 [==============================] - 0s 1ms/step - loss: 0.3827 - accuracy: 0.0000e+00\n",
      "Epoch 97/100\n",
      "24/24 [==============================] - 0s 1ms/step - loss: 0.3823 - accuracy: 0.0000e+00\n",
      "Epoch 98/100\n",
      "24/24 [==============================] - 0s 1ms/step - loss: 0.3800 - accuracy: 0.0000e+00\n",
      "Epoch 99/100\n",
      "24/24 [==============================] - 0s 2ms/step - loss: 0.3832 - accuracy: 0.0000e+00\n",
      "Epoch 100/100\n",
      "24/24 [==============================] - 0s 997us/step - loss: 0.3800 - accuracy: 0.0000e+00\n"
     ]
    },
    {
     "data": {
      "text/plain": [
       "<tensorflow.python.keras.callbacks.History at 0x1c4a6d183a0>"
      ]
     },
     "execution_count": 280,
     "metadata": {},
     "output_type": "execute_result"
    }
   ],
   "source": [
    "# Fitting the ANN to the Training set\n",
    "rnn.fit(X_train, y_train, batch_size = 10, epochs = 100)"
   ]
  },
  {
   "cell_type": "code",
   "execution_count": 281,
   "metadata": {},
   "outputs": [],
   "source": [
    "# Predicting the Test set results\n",
    "y_pred = rnn.predict(X_test)"
   ]
  },
  {
   "cell_type": "code",
   "execution_count": 282,
   "metadata": {},
   "outputs": [
    {
     "data": {
      "image/png": "[encoded data removed]",
      "text/plain": [
       "<Figure size 432x288 with 1 Axes>"
      ]
     },
     "metadata": {
      "needs_background": "light"
     },
     "output_type": "display_data"
    }
   ],
   "source": [
    "# Visualising the Training set results\n",
    "plt.scatter(X_train[:,2], y_train, color = 'red')\n",
    "plt.plot(X_train[:,2], rnn.predict(X_train), 'bo')\n",
    "plt.title('ActualPower vs Location 2')\n",
    "plt.xlabel('Location 2')\n",
    "plt.ylabel('ActualPower')\n",
    "plt.show()"
   ]
  },
  {
   "cell_type": "code",
   "execution_count": 283,
   "metadata": {},
   "outputs": [
    {
     "data": {
      "image/png": "[encoded data removed]",
      "text/plain": [
       "<Figure size 432x288 with 1 Axes>"
      ]
     },
     "metadata": {
      "needs_background": "light"
     },
     "output_type": "display_data"
    }
   ],
   "source": [
    "# Visualising the Test set results\n",
    "plt.scatter(X_test[:,2], y_test, color = 'red')\n",
    "plt.plot(X_test[:,2], rnn.predict(X_test), 'bo')\n",
    "plt.title('ActualPower vs Location 2')\n",
    "plt.xlabel('Location 2')\n",
    "plt.ylabel('ActualPower')\n",
    "plt.show()"
   ]
  },
  {
   "cell_type": "code",
   "execution_count": 284,
   "metadata": {},
   "outputs": [
    {
     "name": "stdout",
     "output_type": "stream",
     "text": [
      "Mean Squared Error for Test Set:\n"
     ]
    },
    {
     "data": {
      "text/plain": [
       "0.490490753697292"
      ]
     },
     "execution_count": 284,
     "metadata": {},
     "output_type": "execute_result"
    }
   ],
   "source": [
    "# Mean Squared Error\n",
    "from sklearn.metrics import mean_squared_error\n",
    "y_pred_test = rnn.predict(X_test)\n",
    "print(\"Mean Squared Error for Test Set:\")\n",
    "rnn1_metrics.append(mean_squared_error(y_pred_test, y_test))\n",
    "mean_squared_error(y_pred_test, y_test)"
   ]
  },
  {
   "cell_type": "code",
   "execution_count": 285,
   "metadata": {},
   "outputs": [
    {
     "name": "stdout",
     "output_type": "stream",
     "text": [
      "Mean Squared Error for Train Set:\n"
     ]
    },
    {
     "data": {
      "text/plain": [
       "0.3771361099444928"
      ]
     },
     "execution_count": 285,
     "metadata": {},
     "output_type": "execute_result"
    }
   ],
   "source": [
    "y_pred_train = rnn.predict(X_train)\n",
    "print(\"Mean Squared Error for Train Set:\")\n",
    "rnn1_metrics.append(mean_squared_error(y_pred_train, y_train))\n",
    "mean_squared_error(y_pred_train, y_train)"
   ]
  },
  {
   "cell_type": "code",
   "execution_count": 286,
   "metadata": {},
   "outputs": [],
   "source": [
    "# Как вывод наблюдаем, что по метрике MSE для тестовой виборки лучшей является модель дерева решений. \n",
    "# Также отметим, что достаточно неплохой оказалась регрессионная модель нейронных сетей, однако она уступает по тестовой MSE моделям Regression Tree и Random Forest\n",
    "# Таким образом, лучшими моделями по критерию MSE для тестовой выборки являются Regression Tree, Random Forest и Regression Neural Network.\n",
    "\n",
    "# Ниже расположены краткие оценки моделей по убыванию.\n",
    "\n",
    "# Regression Tree\n",
    "# Coefficient of determination R^2\n",
    "# (1.0, 0.9470117847884222)\n",
    "# Mean squared error\n",
    "# (7.48998253095482e-32, 0.0052981250664126695)\n",
    "\n",
    "# Random Forest\n",
    "# Coefficient of determination R^2\n",
    "# (0.9872288937522067, 0.9312037957913394)\n",
    "# Mean squared error\n",
    "# (0.0008193275804441426, 0.006878716192582933)\n",
    "\n",
    "# Regression Neural Network\n",
    "# Mean squared error\n",
    "# (0.45263429242919107, 0.2759985798707595)\n",
    "\n",
    "# Multiple Linear Regression\n",
    "# Coefficient of determination R^2\n",
    "# (0.3510663176818859, 0.44470012975574835)\n",
    "# Mean squared error\n",
    "# (62.194861678445626, 53.88881349237319)\n",
    "\n",
    "# Backward Elimination with p-values\n",
    "# Coefficient of determination R^2\n",
    "# (0.3479422499743793, 0.4369496099590431)\n",
    "# Mean squared error\n",
    "# (62.49427741881587, 54.64095902341732)\n",
    "\n",
    "# Simple Linear Regression\n",
    "# Coefficient of determination R^2\n",
    "# (0.1908749365272442, 0.17233498442617246)\n",
    "# Mean squared error\n",
    "# (77.54786471167098, 80.32036031055034)\n",
    "\n",
    "# Polynomial Regression\n",
    "# Coefficient of determination R^2\n",
    "# (0.19087526134588262, 0.1721999186006038)\n",
    "# Mean squared error\n",
    "# (77.54783358052332, 80.33346770976522)"
   ]
  }
 ],
 "metadata": {
  "kernelspec": {
   "display_name": "Python 3",
   "language": "python",
   "name": "python3"
  },
  "language_info": {
   "codemirror_mode": {
    "name": "ipython",
    "version": 3
   },
   "file_extension": ".py",
   "mimetype": "text/x-python",
   "name": "python",
   "nbconvert_exporter": "python",
   "pygments_lexer": "ipython3",
   "version": "3.8.1"
  }
 },
 "nbformat": 4,
 "nbformat_minor": 4
}
